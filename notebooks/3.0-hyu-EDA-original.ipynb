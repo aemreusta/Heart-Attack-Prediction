{
 "cells": [
  {
   "cell_type": "code",
   "execution_count": 27,
   "metadata": {
    "_cell_guid": "b1076dfc-b9ad-4769-8c92-a6c4dae69d19",
    "_uuid": "8f2839f25d086af736a60e9eeb907d3b93b6e0e5",
    "execution": {
     "iopub.execute_input": "2022-01-16T18:29:22.544734Z",
     "iopub.status.busy": "2022-01-16T18:29:22.544454Z",
     "iopub.status.idle": "2022-01-16T18:29:23.270655Z",
     "shell.execute_reply": "2022-01-16T18:29:23.26952Z",
     "shell.execute_reply.started": "2022-01-16T18:29:22.544702Z"
    },
    "trusted": true
   },
   "outputs": [],
   "source": [
    "import pandas as pd\n",
    "import matplotlib.pyplot as plt\n",
    "import warnings\n",
    "import seaborn as sns\n",
    "import os\n",
    "\n",
    "%matplotlib inline\n",
    "warnings.filterwarnings(\"ignore\")"
   ]
  },
  {
   "cell_type": "code",
   "execution_count": 28,
   "metadata": {
    "execution": {
     "iopub.execute_input": "2022-01-16T18:29:23.272964Z",
     "iopub.status.busy": "2022-01-16T18:29:23.272681Z",
     "iopub.status.idle": "2022-01-16T18:29:23.279036Z",
     "shell.execute_reply": "2022-01-16T18:29:23.278026Z",
     "shell.execute_reply.started": "2022-01-16T18:29:23.272931Z"
    },
    "trusted": true
   },
   "outputs": [],
   "source": [
    "working_directory = \"\\\\\".join(os.getcwd().split(\"\\\\\")[:-1])\n",
    "DATASETS = os.path.join(working_directory, \"data\")\n",
    "PROCESSED_DATASETS = os.path.join(DATASETS, \"processed\")\n",
    "parquet_name = os.path.join(PROCESSED_DATASETS, \"bfrss2021_selected_brotli.parquet\")"
   ]
  },
  {
   "cell_type": "code",
   "execution_count": 29,
   "metadata": {
    "execution": {
     "iopub.execute_input": "2022-01-16T18:29:23.281074Z",
     "iopub.status.busy": "2022-01-16T18:29:23.280417Z",
     "iopub.status.idle": "2022-01-16T18:29:40.201189Z",
     "shell.execute_reply": "2022-01-16T18:29:40.200367Z",
     "shell.execute_reply.started": "2022-01-16T18:29:23.281037Z"
    },
    "trusted": true
   },
   "outputs": [
    {
     "name": "stdout",
     "output_type": "stream",
     "text": [
      "<class 'pandas.core.frame.DataFrame'>\n",
      "RangeIndex: 438693 entries, 0 to 438692\n",
      "Data columns (total 12 columns):\n",
      " #   Column    Non-Null Count   Dtype  \n",
      "---  ------    --------------   -----  \n",
      " 0   SEXVAR    438693 non-null  float64\n",
      " 1   _IMPRACE  438693 non-null  float64\n",
      " 2   _AGE65YR  438693 non-null  float64\n",
      " 3   GENHLTH   438689 non-null  float64\n",
      " 4   _RFBMI5   438693 non-null  float64\n",
      " 5   _TOTINDA  438693 non-null  float64\n",
      " 6   _SMOKER3  438693 non-null  float64\n",
      " 7   DRNKANY5  438693 non-null  float64\n",
      " 8   DIABETE4  438690 non-null  float64\n",
      " 9   CVDSTRK3  438691 non-null  float64\n",
      " 10  CVDCRHD4  438691 non-null  float64\n",
      " 11  CVDINFR4  438691 non-null  float64\n",
      "dtypes: float64(12)\n",
      "memory usage: 40.2 MB\n"
     ]
    },
    {
     "data": {
      "text/html": [
       "<div>\n",
       "<style scoped>\n",
       "    .dataframe tbody tr th:only-of-type {\n",
       "        vertical-align: middle;\n",
       "    }\n",
       "\n",
       "    .dataframe tbody tr th {\n",
       "        vertical-align: top;\n",
       "    }\n",
       "\n",
       "    .dataframe thead th {\n",
       "        text-align: right;\n",
       "    }\n",
       "</style>\n",
       "<table border=\"1\" class=\"dataframe\">\n",
       "  <thead>\n",
       "    <tr style=\"text-align: right;\">\n",
       "      <th></th>\n",
       "      <th>SEXVAR</th>\n",
       "      <th>_IMPRACE</th>\n",
       "      <th>_AGE65YR</th>\n",
       "      <th>GENHLTH</th>\n",
       "      <th>_RFBMI5</th>\n",
       "      <th>_TOTINDA</th>\n",
       "      <th>_SMOKER3</th>\n",
       "      <th>DRNKANY5</th>\n",
       "      <th>DIABETE4</th>\n",
       "      <th>CVDSTRK3</th>\n",
       "      <th>CVDCRHD4</th>\n",
       "      <th>CVDINFR4</th>\n",
       "    </tr>\n",
       "  </thead>\n",
       "  <tbody>\n",
       "    <tr>\n",
       "      <th>0</th>\n",
       "      <td>2.0</td>\n",
       "      <td>1.0</td>\n",
       "      <td>2.0</td>\n",
       "      <td>5.0</td>\n",
       "      <td>1.0</td>\n",
       "      <td>2.0</td>\n",
       "      <td>3.0</td>\n",
       "      <td>2.0</td>\n",
       "      <td>3.0</td>\n",
       "      <td>2.0</td>\n",
       "      <td>2.0</td>\n",
       "      <td>2.0</td>\n",
       "    </tr>\n",
       "    <tr>\n",
       "      <th>1</th>\n",
       "      <td>2.0</td>\n",
       "      <td>2.0</td>\n",
       "      <td>2.0</td>\n",
       "      <td>3.0</td>\n",
       "      <td>9.0</td>\n",
       "      <td>1.0</td>\n",
       "      <td>4.0</td>\n",
       "      <td>2.0</td>\n",
       "      <td>1.0</td>\n",
       "      <td>2.0</td>\n",
       "      <td>1.0</td>\n",
       "      <td>2.0</td>\n",
       "    </tr>\n",
       "    <tr>\n",
       "      <th>2</th>\n",
       "      <td>2.0</td>\n",
       "      <td>2.0</td>\n",
       "      <td>2.0</td>\n",
       "      <td>2.0</td>\n",
       "      <td>2.0</td>\n",
       "      <td>2.0</td>\n",
       "      <td>4.0</td>\n",
       "      <td>2.0</td>\n",
       "      <td>1.0</td>\n",
       "      <td>2.0</td>\n",
       "      <td>1.0</td>\n",
       "      <td>2.0</td>\n",
       "    </tr>\n",
       "    <tr>\n",
       "      <th>3</th>\n",
       "      <td>2.0</td>\n",
       "      <td>1.0</td>\n",
       "      <td>1.0</td>\n",
       "      <td>2.0</td>\n",
       "      <td>2.0</td>\n",
       "      <td>1.0</td>\n",
       "      <td>4.0</td>\n",
       "      <td>1.0</td>\n",
       "      <td>1.0</td>\n",
       "      <td>2.0</td>\n",
       "      <td>2.0</td>\n",
       "      <td>2.0</td>\n",
       "    </tr>\n",
       "    <tr>\n",
       "      <th>4</th>\n",
       "      <td>1.0</td>\n",
       "      <td>6.0</td>\n",
       "      <td>2.0</td>\n",
       "      <td>5.0</td>\n",
       "      <td>2.0</td>\n",
       "      <td>1.0</td>\n",
       "      <td>4.0</td>\n",
       "      <td>2.0</td>\n",
       "      <td>1.0</td>\n",
       "      <td>1.0</td>\n",
       "      <td>7.0</td>\n",
       "      <td>1.0</td>\n",
       "    </tr>\n",
       "  </tbody>\n",
       "</table>\n",
       "</div>"
      ],
      "text/plain": [
       "   SEXVAR  _IMPRACE  _AGE65YR  GENHLTH  _RFBMI5  _TOTINDA  _SMOKER3  DRNKANY5  \\\n",
       "0     2.0       1.0       2.0      5.0      1.0       2.0       3.0       2.0   \n",
       "1     2.0       2.0       2.0      3.0      9.0       1.0       4.0       2.0   \n",
       "2     2.0       2.0       2.0      2.0      2.0       2.0       4.0       2.0   \n",
       "3     2.0       1.0       1.0      2.0      2.0       1.0       4.0       1.0   \n",
       "4     1.0       6.0       2.0      5.0      2.0       1.0       4.0       2.0   \n",
       "\n",
       "   DIABETE4  CVDSTRK3  CVDCRHD4  CVDINFR4  \n",
       "0       3.0       2.0       2.0       2.0  \n",
       "1       1.0       2.0       1.0       2.0  \n",
       "2       1.0       2.0       1.0       2.0  \n",
       "3       1.0       2.0       2.0       2.0  \n",
       "4       1.0       1.0       7.0       1.0  "
      ]
     },
     "execution_count": 29,
     "metadata": {},
     "output_type": "execute_result"
    }
   ],
   "source": [
    "df = pd.read_parquet(parquet_name)\n",
    "df.info()\n",
    "df.head()"
   ]
  },
  {
   "cell_type": "markdown",
   "metadata": {},
   "source": [
    "## **Reading Data and Selecting The Variables**\n"
   ]
  },
  {
   "cell_type": "markdown",
   "metadata": {},
   "source": [
    "**Looking for Missing Values and Handling Them**\n"
   ]
  },
  {
   "cell_type": "markdown",
   "metadata": {},
   "source": [
    "Since missing values are very few compared to the size of the data, there is no problem in deleting them.\n"
   ]
  },
  {
   "cell_type": "code",
   "execution_count": 30,
   "metadata": {
    "execution": {
     "iopub.execute_input": "2022-01-16T18:29:40.238134Z",
     "iopub.status.busy": "2022-01-16T18:29:40.237886Z",
     "iopub.status.idle": "2022-01-16T18:29:40.405373Z",
     "shell.execute_reply": "2022-01-16T18:29:40.404597Z",
     "shell.execute_reply.started": "2022-01-16T18:29:40.238107Z"
    },
    "trusted": true
   },
   "outputs": [
    {
     "data": {
      "text/plain": [
       "SEXVAR      0\n",
       "_IMPRACE    0\n",
       "_AGE65YR    0\n",
       "GENHLTH     4\n",
       "_RFBMI5     0\n",
       "_TOTINDA    0\n",
       "_SMOKER3    0\n",
       "DRNKANY5    0\n",
       "DIABETE4    3\n",
       "CVDSTRK3    2\n",
       "CVDCRHD4    2\n",
       "CVDINFR4    2\n",
       "dtype: int64"
      ]
     },
     "execution_count": 30,
     "metadata": {},
     "output_type": "execute_result"
    }
   ],
   "source": [
    "df.isnull().sum()\n",
    "df = df.dropna()"
   ]
  },
  {
   "cell_type": "markdown",
   "metadata": {},
   "source": [
    "## **Data Cleaning and Exploration**\n"
   ]
  },
  {
   "cell_type": "markdown",
   "metadata": {},
   "source": [
    "**SEXVAR**\n"
   ]
  },
  {
   "cell_type": "markdown",
   "metadata": {},
   "source": [
    "SEXVAR column contains participants gender information. 1 means male and 2 means female. For better reading, the column renamed as 'Gender'.\n"
   ]
  },
  {
   "cell_type": "code",
   "execution_count": 31,
   "metadata": {
    "execution": {
     "iopub.execute_input": "2022-01-16T18:29:40.407273Z",
     "iopub.status.busy": "2022-01-16T18:29:40.406625Z",
     "iopub.status.idle": "2022-01-16T18:29:40.646546Z",
     "shell.execute_reply": "2022-01-16T18:29:40.645698Z",
     "shell.execute_reply.started": "2022-01-16T18:29:40.407243Z"
    },
    "trusted": true
   },
   "outputs": [
    {
     "data": {
      "text/plain": [
       "SEXVAR\n",
       "2.0    234878\n",
       "1.0    203809\n",
       "Name: count, dtype: int64"
      ]
     },
     "execution_count": 31,
     "metadata": {},
     "output_type": "execute_result"
    },
    {
     "data": {
      "text/plain": [
       "<AxesSubplot:xlabel='Gender', ylabel='count'>"
      ]
     },
     "execution_count": 31,
     "metadata": {},
     "output_type": "execute_result"
    },
    {
     "data": {
      "image/png": "[encoded data removed]",
      "text/plain": [
       "<Figure size 432x288 with 1 Axes>"
      ]
     },
     "metadata": {
      "needs_background": "light"
     },
     "output_type": "display_data"
    }
   ],
   "source": [
    "df[\"SEXVAR\"].value_counts()\n",
    "df = df.rename(columns={\"SEXVAR\": \"Gender\"})\n",
    "sns.countplot(x=\"Gender\", data=df)"
   ]
  },
  {
   "cell_type": "markdown",
   "metadata": {},
   "source": [
    "**\\_IMPRACE**\n"
   ]
  },
  {
   "cell_type": "markdown",
   "metadata": {},
   "source": [
    "The \\_IMPRACE column contains participants race information.\n",
    "\n",
    "- 1 means White\n",
    "- 2 means Black\n",
    "- 3 means Asian\n",
    "- 4 means American Indian/Alaskan Native\n",
    "- 5 means Hispanic\n",
    "- 6 means Other race\n",
    "\n",
    "For better reading, the column renamed as 'Race'.\n"
   ]
  },
  {
   "cell_type": "code",
   "execution_count": 32,
   "metadata": {
    "execution": {
     "iopub.execute_input": "2022-01-16T18:29:40.648579Z",
     "iopub.status.busy": "2022-01-16T18:29:40.647984Z",
     "iopub.status.idle": "2022-01-16T18:29:41.004695Z",
     "shell.execute_reply": "2022-01-16T18:29:41.003661Z",
     "shell.execute_reply.started": "2022-01-16T18:29:40.64853Z"
    },
    "trusted": true
   },
   "outputs": [
    {
     "data": {
      "text/plain": [
       "_IMPRACE\n",
       "1.0    332217\n",
       "5.0     38688\n",
       "2.0     33132\n",
       "6.0     15683\n",
       "3.0     11557\n",
       "4.0      7410\n",
       "Name: count, dtype: int64"
      ]
     },
     "execution_count": 32,
     "metadata": {},
     "output_type": "execute_result"
    },
    {
     "data": {
      "text/plain": [
       "<AxesSubplot:xlabel='Race', ylabel='count'>"
      ]
     },
     "execution_count": 32,
     "metadata": {},
     "output_type": "execute_result"
    },
    {
     "data": {
      "image/png": "[encoded data removed]",
      "text/plain": [
       "<Figure size 432x288 with 1 Axes>"
      ]
     },
     "metadata": {
      "needs_background": "light"
     },
     "output_type": "display_data"
    }
   ],
   "source": [
    "df[\"_IMPRACE\"].value_counts()\n",
    "df = df.rename(columns={\"_IMPRACE\": \"Race\"})\n",
    "sns.countplot(x=\"Race\", hue=\"Gender\", data=df)"
   ]
  },
  {
   "cell_type": "markdown",
   "metadata": {},
   "source": [
    "**\\_AGE65YR**\n"
   ]
  },
  {
   "cell_type": "markdown",
   "metadata": {},
   "source": [
    "The \\_AGE65YR column contains information about the age of the participants. Participants aged 65 and older are marked as 2, while younger ones are marked as 1. 3 means missing values and they removed.\n",
    "\n",
    "For better reading, the column renamed as 'Over 65 Years Old'.\n"
   ]
  },
  {
   "cell_type": "code",
   "execution_count": 33,
   "metadata": {
    "execution": {
     "iopub.execute_input": "2022-01-16T18:29:41.006223Z",
     "iopub.status.busy": "2022-01-16T18:29:41.005939Z",
     "iopub.status.idle": "2022-01-16T18:29:41.35405Z",
     "shell.execute_reply": "2022-01-16T18:29:41.35325Z",
     "shell.execute_reply.started": "2022-01-16T18:29:41.00619Z"
    },
    "trusted": true
   },
   "outputs": [
    {
     "data": {
      "text/plain": [
       "_AGE65YR\n",
       "1.0    276148\n",
       "2.0    152935\n",
       "3.0      9604\n",
       "Name: count, dtype: int64"
      ]
     },
     "execution_count": 33,
     "metadata": {},
     "output_type": "execute_result"
    },
    {
     "data": {
      "text/plain": [
       "<AxesSubplot:xlabel='Over_65_Years_Old', ylabel='count'>"
      ]
     },
     "execution_count": 33,
     "metadata": {},
     "output_type": "execute_result"
    },
    {
     "data": {
      "image/png": "[encoded data removed]",
      "text/plain": [
       "<Figure size 432x288 with 1 Axes>"
      ]
     },
     "metadata": {
      "needs_background": "light"
     },
     "output_type": "display_data"
    }
   ],
   "source": [
    "df[\"_AGE65YR\"].value_counts()\n",
    "df.drop(df[df[\"_AGE65YR\"] == 3].index, inplace=True)\n",
    "df = df.rename(columns={\"_AGE65YR\": \"Over_65_Years_Old\"})\n",
    "sns.countplot(x=\"Over_65_Years_Old\", hue=\"Gender\", data=df)"
   ]
  },
  {
   "cell_type": "markdown",
   "metadata": {},
   "source": [
    "**GENHLTH**\n"
   ]
  },
  {
   "cell_type": "markdown",
   "metadata": {},
   "source": [
    "The GENHLTH column contains participants general health information.\n",
    "\n",
    "- 1 means excellent\n",
    "- 2 means very good\n",
    "- 3 means good\n",
    "- 4 means fair\n",
    "- 5 means poor\n",
    "- 7 and 9 means Don’t know/Not Sure/Refused\n",
    "\n",
    "For better reading, the column renamed as 'General Health Status'. Uncertain values removed.\n"
   ]
  },
  {
   "cell_type": "code",
   "execution_count": 34,
   "metadata": {
    "execution": {
     "iopub.execute_input": "2022-01-16T18:29:41.355457Z",
     "iopub.status.busy": "2022-01-16T18:29:41.355233Z",
     "iopub.status.idle": "2022-01-16T18:29:41.72583Z",
     "shell.execute_reply": "2022-01-16T18:29:41.724893Z",
     "shell.execute_reply.started": "2022-01-16T18:29:41.35543Z"
    },
    "trusted": true
   },
   "outputs": [
    {
     "data": {
      "text/plain": [
       "GENHLTH\n",
       "2.0    146034\n",
       "3.0    134748\n",
       "1.0     75697\n",
       "4.0     53803\n",
       "5.0     17771\n",
       "7.0       751\n",
       "9.0       279\n",
       "Name: count, dtype: int64"
      ]
     },
     "execution_count": 34,
     "metadata": {},
     "output_type": "execute_result"
    },
    {
     "data": {
      "text/plain": [
       "<AxesSubplot:xlabel='General_Health_Status', ylabel='count'>"
      ]
     },
     "execution_count": 34,
     "metadata": {},
     "output_type": "execute_result"
    },
    {
     "data": {
      "image/png": "[encoded data removed]",
      "text/plain": [
       "<Figure size 432x288 with 1 Axes>"
      ]
     },
     "metadata": {
      "needs_background": "light"
     },
     "output_type": "display_data"
    }
   ],
   "source": [
    "df[\"GENHLTH\"].value_counts()\n",
    "df = df[(df[\"GENHLTH\"] != 7) & (df[\"GENHLTH\"] != 9)]\n",
    "df = df.rename(columns={\"GENHLTH\": \"General_Health_Status\"})\n",
    "sns.countplot(x=\"General_Health_Status\", hue=\"Gender\", data=df)"
   ]
  },
  {
   "cell_type": "markdown",
   "metadata": {},
   "source": [
    "**\\_RFBMI5**\n"
   ]
  },
  {
   "cell_type": "markdown",
   "metadata": {},
   "source": [
    "The \\_RFBMI5 column contains information about the participants' obesity and overweight status using the BMI score. Those with a BMI score of 25 and above marked 2, lower ones marked as 1. 9 means missing values and removed.\n",
    "\n",
    "For better reading, the column renamed as 'Obesity and Overweight Status'.\n"
   ]
  },
  {
   "cell_type": "code",
   "execution_count": 35,
   "metadata": {
    "execution": {
     "iopub.execute_input": "2022-01-16T18:29:41.727399Z",
     "iopub.status.busy": "2022-01-16T18:29:41.727154Z",
     "iopub.status.idle": "2022-01-16T18:29:42.067387Z",
     "shell.execute_reply": "2022-01-16T18:29:42.066254Z",
     "shell.execute_reply.started": "2022-01-16T18:29:41.727368Z"
    },
    "trusted": true
   },
   "outputs": [
    {
     "data": {
      "text/plain": [
       "_RFBMI5\n",
       "2.0    266437\n",
       "1.0    119732\n",
       "9.0     41884\n",
       "Name: count, dtype: int64"
      ]
     },
     "execution_count": 35,
     "metadata": {},
     "output_type": "execute_result"
    },
    {
     "data": {
      "text/plain": [
       "<AxesSubplot:xlabel='Obesity_Overweight_Status', ylabel='count'>"
      ]
     },
     "execution_count": 35,
     "metadata": {},
     "output_type": "execute_result"
    },
    {
     "data": {
      "image/png": "[encoded data removed]",
      "text/plain": [
       "<Figure size 432x288 with 1 Axes>"
      ]
     },
     "metadata": {
      "needs_background": "light"
     },
     "output_type": "display_data"
    }
   ],
   "source": [
    "df[\"_RFBMI5\"].value_counts()\n",
    "df.drop(df[df[\"_RFBMI5\"] == 9].index, inplace=True)\n",
    "df = df.rename(columns={\"_RFBMI5\": \"Obesity_Overweight_Status\"})\n",
    "sns.countplot(x=\"Obesity_Overweight_Status\", hue=\"Gender\", data=df)"
   ]
  },
  {
   "cell_type": "markdown",
   "metadata": {},
   "source": [
    "**\\_TOTINDA**\n"
   ]
  },
  {
   "cell_type": "markdown",
   "metadata": {},
   "source": [
    "In the \\_TOTINDA column, participants who have done physical activity or exercise outside of their regular job in the last 30 days are marked with 1. Participants who stated that they did not do it are marked with 2. 9 means missing values and removed.\n",
    "\n",
    "For better reading, the column has been renamed to 'Physical Activity Status'.\n"
   ]
  },
  {
   "cell_type": "code",
   "execution_count": 36,
   "metadata": {
    "execution": {
     "iopub.execute_input": "2022-01-16T18:29:42.069075Z",
     "iopub.status.busy": "2022-01-16T18:29:42.068841Z",
     "iopub.status.idle": "2022-01-16T18:29:42.409971Z",
     "shell.execute_reply": "2022-01-16T18:29:42.40908Z",
     "shell.execute_reply.started": "2022-01-16T18:29:42.069047Z"
    },
    "trusted": true
   },
   "outputs": [
    {
     "data": {
      "text/plain": [
       "_TOTINDA\n",
       "1.0    293110\n",
       "2.0     92426\n",
       "9.0       633\n",
       "Name: count, dtype: int64"
      ]
     },
     "execution_count": 36,
     "metadata": {},
     "output_type": "execute_result"
    },
    {
     "data": {
      "text/plain": [
       "<AxesSubplot:xlabel='Physical_Activity_Status', ylabel='count'>"
      ]
     },
     "execution_count": 36,
     "metadata": {},
     "output_type": "execute_result"
    },
    {
     "data": {
      "image/png": "[encoded data removed]",
      "text/plain": [
       "<Figure size 432x288 with 1 Axes>"
      ]
     },
     "metadata": {
      "needs_background": "light"
     },
     "output_type": "display_data"
    }
   ],
   "source": [
    "df[\"_TOTINDA\"].value_counts()\n",
    "df.drop(df[df[\"_TOTINDA\"] == 9].index, inplace=True)\n",
    "df = df.rename(columns={\"_TOTINDA\": \"Physical_Activity_Status\"})\n",
    "sns.countplot(x=\"Physical_Activity_Status\", hue=\"Gender\", data=df)"
   ]
  },
  {
   "cell_type": "markdown",
   "metadata": {},
   "source": [
    "**\\_SMOKER3**\n"
   ]
  },
  {
   "cell_type": "markdown",
   "metadata": {},
   "source": [
    "The \\_SMOKER3 column contains information about participants tobacco usage.\n",
    "\n",
    "- 1 means Everyday smoker\n",
    "- 2 means Someday smoker\n",
    "- 3 means Former smoker\n",
    "- 4 means Non-smoker\n",
    "- 9 means Don’t know/Not Sure/Refused\n",
    "\n",
    "For better reading, the column renamed as 'Tobacco Usage'. Uncertain values removed. Since the effects of smoking some days and smoking everyday on heart attack are not very different, these two values were combined and all the variables were renamed.\n",
    "\n",
    "After editing:\n",
    "\n",
    "- 1 means smoker\n",
    "- 2 means former smoker\n",
    "- 3 means non-smoker\n"
   ]
  },
  {
   "cell_type": "code",
   "execution_count": 37,
   "metadata": {
    "execution": {
     "iopub.execute_input": "2022-01-16T18:29:42.41231Z",
     "iopub.status.busy": "2022-01-16T18:29:42.411644Z",
     "iopub.status.idle": "2022-01-16T18:29:42.74886Z",
     "shell.execute_reply": "2022-01-16T18:29:42.747723Z",
     "shell.execute_reply.started": "2022-01-16T18:29:42.412263Z"
    },
    "trusted": true
   },
   "outputs": [
    {
     "data": {
      "text/plain": [
       "_SMOKER3\n",
       "4.0    221702\n",
       "3.0    104555\n",
       "1.0     36561\n",
       "2.0     13910\n",
       "9.0      8808\n",
       "Name: count, dtype: int64"
      ]
     },
     "execution_count": 37,
     "metadata": {},
     "output_type": "execute_result"
    },
    {
     "data": {
      "text/plain": [
       "<AxesSubplot:xlabel='Tobacco_Usage', ylabel='count'>"
      ]
     },
     "execution_count": 37,
     "metadata": {},
     "output_type": "execute_result"
    },
    {
     "data": {
      "image/png": "[encoded data removed]",
      "text/plain": [
       "<Figure size 432x288 with 1 Axes>"
      ]
     },
     "metadata": {
      "needs_background": "light"
     },
     "output_type": "display_data"
    }
   ],
   "source": [
    "df[\"_SMOKER3\"].value_counts()\n",
    "df.drop(df[df[\"_SMOKER3\"] == 9].index, inplace=True)\n",
    "chg = {2: 1, 3: 2, 4: 3}\n",
    "df[\"_SMOKER3\"].replace(to_replace=chg, inplace=True)\n",
    "df = df.rename(columns={\"_SMOKER3\": \"Tobacco_Usage\"})\n",
    "sns.countplot(x=\"Tobacco_Usage\", hue=\"Gender\", data=df)"
   ]
  },
  {
   "cell_type": "markdown",
   "metadata": {},
   "source": [
    "**DRNKANY5**\n"
   ]
  },
  {
   "cell_type": "markdown",
   "metadata": {},
   "source": [
    "In the DRNKANY5 column, participants who having had at least one drink of alcohol in the past 30 days are marked with 1. Participants who stated that they did not drink it are marked with 2. 9 means missing values. 7 means Don’t know/Not Sure. Both of them removed.\n",
    "\n",
    "For better reading, the column has been renamed to 'Physical Activity Status'.\n"
   ]
  },
  {
   "cell_type": "code",
   "execution_count": 38,
   "metadata": {
    "execution": {
     "iopub.execute_input": "2022-01-16T18:29:42.752939Z",
     "iopub.status.busy": "2022-01-16T18:29:42.752625Z",
     "iopub.status.idle": "2022-01-16T18:29:43.053871Z",
     "shell.execute_reply": "2022-01-16T18:29:43.052876Z",
     "shell.execute_reply.started": "2022-01-16T18:29:42.752907Z"
    },
    "trusted": true
   },
   "outputs": [
    {
     "data": {
      "text/plain": [
       "DRNKANY5\n",
       "1.0    196215\n",
       "2.0    174114\n",
       "9.0      3498\n",
       "7.0      2901\n",
       "Name: count, dtype: int64"
      ]
     },
     "execution_count": 38,
     "metadata": {},
     "output_type": "execute_result"
    },
    {
     "data": {
      "text/plain": [
       "<AxesSubplot:xlabel='Alcohol_Usage', ylabel='count'>"
      ]
     },
     "execution_count": 38,
     "metadata": {},
     "output_type": "execute_result"
    },
    {
     "data": {
      "image/png": "[encoded data removed]",
      "text/plain": [
       "<Figure size 432x288 with 1 Axes>"
      ]
     },
     "metadata": {
      "needs_background": "light"
     },
     "output_type": "display_data"
    }
   ],
   "source": [
    "df[\"DRNKANY5\"].value_counts()\n",
    "df = df[(df[\"DRNKANY5\"] != 7) & (df[\"DRNKANY5\"] != 9)]\n",
    "df = df.rename(columns={\"DRNKANY5\": \"Alcohol_Usage\"})\n",
    "sns.countplot(x=\"Alcohol_Usage\", hue=\"Gender\", data=df)"
   ]
  },
  {
   "cell_type": "markdown",
   "metadata": {},
   "source": [
    "**DIABETE4**\n"
   ]
  },
  {
   "cell_type": "markdown",
   "metadata": {},
   "source": [
    "The DIABETE4 column contains information about participants diabetes mellitus.\n",
    "\n",
    "- 1 means Has Diabetes\n",
    "- 2 means Has Diabetes but Only During Pregnancy Period just for Female Participants\n",
    "- 3 means Not Has Diabetes\n",
    "- 4 means Has Pre-diabetes or Borberline Diabetes\n",
    "- 7 means Don’t know/Not Sure\n",
    "- 9 means Refused\n",
    "\n",
    "For better reading, the column renamed as 'Diabetes Status'. Uncertain values removed. Since the effects of pregnancy diabetes on heart attack are not very important, they were combined with 'Not Has Diabetes'. On the other hand, since pre-diabetes or borderline diabetes is associated with heart diseases, these were combined with 'Has Diabetes'.\n",
    "\n",
    "After editing:\n",
    "\n",
    "- 1 means Has Diabetes\n",
    "- 2 means Not Has Diabetes\n"
   ]
  },
  {
   "cell_type": "code",
   "execution_count": 39,
   "metadata": {
    "execution": {
     "iopub.execute_input": "2022-01-16T18:29:43.055387Z",
     "iopub.status.busy": "2022-01-16T18:29:43.055134Z",
     "iopub.status.idle": "2022-01-16T18:29:43.374737Z",
     "shell.execute_reply": "2022-01-16T18:29:43.374112Z",
     "shell.execute_reply.started": "2022-01-16T18:29:43.055359Z"
    },
    "trusted": true
   },
   "outputs": [
    {
     "data": {
      "text/plain": [
       "DIABETE4\n",
       "3.0    308901\n",
       "1.0     49227\n",
       "4.0      8572\n",
       "2.0      3145\n",
       "7.0       433\n",
       "9.0        51\n",
       "Name: count, dtype: int64"
      ]
     },
     "execution_count": 39,
     "metadata": {},
     "output_type": "execute_result"
    },
    {
     "data": {
      "text/plain": [
       "<AxesSubplot:xlabel='Diabetes_Status', ylabel='count'>"
      ]
     },
     "execution_count": 39,
     "metadata": {},
     "output_type": "execute_result"
    },
    {
     "data": {
      "image/png": "[encoded data removed]",
      "text/plain": [
       "<Figure size 432x288 with 1 Axes>"
      ]
     },
     "metadata": {
      "needs_background": "light"
     },
     "output_type": "display_data"
    }
   ],
   "source": [
    "df[\"DIABETE4\"].value_counts()\n",
    "df = df[(df[\"DIABETE4\"] != 7) & (df[\"DIABETE4\"] != 9)]\n",
    "chg = {3: 2, 4: 1}\n",
    "df[\"DIABETE4\"].replace(to_replace=chg, inplace=True)\n",
    "df = df.rename(columns={\"DIABETE4\": \"Diabetes_Status\"})\n",
    "sns.countplot(x=\"Diabetes_Status\", hue=\"Gender\", data=df)"
   ]
  },
  {
   "cell_type": "markdown",
   "metadata": {},
   "source": [
    "**CVDSTRK3**\n"
   ]
  },
  {
   "cell_type": "markdown",
   "metadata": {},
   "source": [
    "In the CVDSTRK3 column, participants who had stroke at least one time in their life are marked with 1. Participants who stated that they did not had it are marked with 2. 9 means missing values. 7 means Don’t know/Not Sure. Both of them removed.\n",
    "\n",
    "For better reading, the column has been renamed to 'Stroke Status'.\n"
   ]
  },
  {
   "cell_type": "code",
   "execution_count": 40,
   "metadata": {
    "execution": {
     "iopub.execute_input": "2022-01-16T18:29:43.376169Z",
     "iopub.status.busy": "2022-01-16T18:29:43.375841Z",
     "iopub.status.idle": "2022-01-16T18:29:43.682466Z",
     "shell.execute_reply": "2022-01-16T18:29:43.68165Z",
     "shell.execute_reply.started": "2022-01-16T18:29:43.376132Z"
    },
    "trusted": true
   },
   "outputs": [
    {
     "data": {
      "text/plain": [
       "CVDSTRK3\n",
       "2.0    354046\n",
       "1.0     14886\n",
       "7.0       880\n",
       "9.0        33\n",
       "Name: count, dtype: int64"
      ]
     },
     "execution_count": 40,
     "metadata": {},
     "output_type": "execute_result"
    },
    {
     "data": {
      "text/plain": [
       "<AxesSubplot:xlabel='Stroke_Status', ylabel='count'>"
      ]
     },
     "execution_count": 40,
     "metadata": {},
     "output_type": "execute_result"
    },
    {
     "data": {
      "image/png": "[encoded data removed]",
      "text/plain": [
       "<Figure size 432x288 with 1 Axes>"
      ]
     },
     "metadata": {
      "needs_background": "light"
     },
     "output_type": "display_data"
    }
   ],
   "source": [
    "df[\"CVDSTRK3\"].value_counts()\n",
    "df = df[(df[\"CVDSTRK3\"] != 7) & (df[\"CVDSTRK3\"] != 9)]\n",
    "df = df.rename(columns={\"CVDSTRK3\": \"Stroke_Status\"})\n",
    "sns.countplot(x=\"Stroke_Status\", hue=\"Gender\", data=df)"
   ]
  },
  {
   "cell_type": "markdown",
   "metadata": {},
   "source": [
    "**CVDCRHD4**\n"
   ]
  },
  {
   "cell_type": "markdown",
   "metadata": {},
   "source": [
    "In the CVDCRHD4 column, participants who had angina or coronary heart disease are marked with 1. Participants who stated that they did not had it are marked with 2. 9 means missing values. 7 means Don’t know/Not Sure. Both of them removed.\n",
    "\n",
    "For better reading, the column has been renamed to 'Coronary Heart Disease Status'.\n"
   ]
  },
  {
   "cell_type": "code",
   "execution_count": 41,
   "metadata": {
    "execution": {
     "iopub.execute_input": "2022-01-16T18:29:43.683956Z",
     "iopub.status.busy": "2022-01-16T18:29:43.683715Z",
     "iopub.status.idle": "2022-01-16T18:29:44.000641Z",
     "shell.execute_reply": "2022-01-16T18:29:43.999921Z",
     "shell.execute_reply.started": "2022-01-16T18:29:43.683926Z"
    },
    "trusted": true
   },
   "outputs": [
    {
     "data": {
      "text/plain": [
       "CVDCRHD4\n",
       "2.0    345845\n",
       "1.0     19964\n",
       "7.0      3075\n",
       "9.0        48\n",
       "Name: count, dtype: int64"
      ]
     },
     "execution_count": 41,
     "metadata": {},
     "output_type": "execute_result"
    },
    {
     "data": {
      "text/plain": [
       "<AxesSubplot:xlabel='Coronary_Heart_Disease_Status', ylabel='count'>"
      ]
     },
     "execution_count": 41,
     "metadata": {},
     "output_type": "execute_result"
    },
    {
     "data": {
      "image/png": "[encoded data removed]",
      "text/plain": [
       "<Figure size 432x288 with 1 Axes>"
      ]
     },
     "metadata": {
      "needs_background": "light"
     },
     "output_type": "display_data"
    }
   ],
   "source": [
    "df[\"CVDCRHD4\"].value_counts()\n",
    "df = df[(df[\"CVDCRHD4\"] != 7) & (df[\"CVDCRHD4\"] != 9)]\n",
    "df = df.rename(columns={\"CVDCRHD4\": \"Coronary_Heart_Disease_Status\"})\n",
    "sns.countplot(x=\"Coronary_Heart_Disease_Status\", hue=\"Gender\", data=df)"
   ]
  },
  {
   "cell_type": "markdown",
   "metadata": {},
   "source": [
    "**CVDINFR4**\n"
   ]
  },
  {
   "cell_type": "markdown",
   "metadata": {},
   "source": [
    "In the CVDINFR4 column, participants who had a heart attack also called a myocardial infarction are marked with 1. Participants who stated that they did not had it are marked with 2. 9 means missing values. 7 means Don’t know/Not Sure. Both of them removed.\n",
    "\n",
    "For better reading, the column has been renamed to 'Heart Attack Status'.\n",
    "\n",
    "After editing:\n",
    "\n",
    "- 0 means Had Heart Attack\n",
    "- 1 means Not Had Heart Attack\n",
    "\n",
    "This variable is the dependent variable of the project.\n"
   ]
  },
  {
   "cell_type": "code",
   "execution_count": 42,
   "metadata": {
    "execution": {
     "iopub.execute_input": "2022-01-16T18:29:44.002992Z",
     "iopub.status.busy": "2022-01-16T18:29:44.002369Z",
     "iopub.status.idle": "2022-01-16T18:29:44.323264Z",
     "shell.execute_reply": "2022-01-16T18:29:44.322383Z",
     "shell.execute_reply.started": "2022-01-16T18:29:44.002943Z"
    },
    "trusted": true
   },
   "outputs": [
    {
     "data": {
      "text/plain": [
       "CVDINFR4\n",
       "2.0    345587\n",
       "1.0     18801\n",
       "7.0      1389\n",
       "9.0        32\n",
       "Name: count, dtype: int64"
      ]
     },
     "execution_count": 42,
     "metadata": {},
     "output_type": "execute_result"
    },
    {
     "data": {
      "text/plain": [
       "<AxesSubplot:xlabel='Heart_Attack_Status', ylabel='count'>"
      ]
     },
     "execution_count": 42,
     "metadata": {},
     "output_type": "execute_result"
    },
    {
     "data": {
      "image/png": "[encoded data removed]",
      "text/plain": [
       "<Figure size 432x288 with 1 Axes>"
      ]
     },
     "metadata": {
      "needs_background": "light"
     },
     "output_type": "display_data"
    }
   ],
   "source": [
    "df[\"CVDINFR4\"].value_counts()\n",
    "df = df[(df[\"CVDINFR4\"] != 7) & (df[\"CVDINFR4\"] != 9)]\n",
    "chg = {1: 0, 2: 1}\n",
    "df[\"CVDINFR4\"].replace(to_replace=chg, inplace=True)\n",
    "df = df.rename(columns={\"CVDINFR4\": \"Heart_Attack_Status\"})\n",
    "sns.countplot(x=\"Heart_Attack_Status\", hue=\"Gender\", data=df)"
   ]
  },
  {
   "cell_type": "markdown",
   "metadata": {},
   "source": [
    "**Last Shape of Data Set**\n"
   ]
  },
  {
   "cell_type": "code",
   "execution_count": 43,
   "metadata": {
    "execution": {
     "iopub.execute_input": "2022-01-16T18:29:44.325545Z",
     "iopub.status.busy": "2022-01-16T18:29:44.324992Z",
     "iopub.status.idle": "2022-01-16T18:29:44.365204Z",
     "shell.execute_reply": "2022-01-16T18:29:44.364332Z",
     "shell.execute_reply.started": "2022-01-16T18:29:44.325498Z"
    },
    "trusted": true
   },
   "outputs": [
    {
     "name": "stdout",
     "output_type": "stream",
     "text": [
      "<class 'pandas.core.frame.DataFrame'>\n",
      "Index: 364388 entries, 0 to 438692\n",
      "Data columns (total 12 columns):\n",
      " #   Column                         Non-Null Count   Dtype  \n",
      "---  ------                         --------------   -----  \n",
      " 0   Gender                         364388 non-null  float64\n",
      " 1   Race                           364388 non-null  float64\n",
      " 2   Over_65_Years_Old              364388 non-null  float64\n",
      " 3   General_Health_Status          364388 non-null  float64\n",
      " 4   Obesity_Overweight_Status      364388 non-null  float64\n",
      " 5   Physical_Activity_Status       364388 non-null  float64\n",
      " 6   Tobacco_Usage                  364388 non-null  float64\n",
      " 7   Alcohol_Usage                  364388 non-null  float64\n",
      " 8   Diabetes_Status                364388 non-null  float64\n",
      " 9   Stroke_Status                  364388 non-null  float64\n",
      " 10  Coronary_Heart_Disease_Status  364388 non-null  float64\n",
      " 11  Heart_Attack_Status            364388 non-null  float64\n",
      "dtypes: float64(12)\n",
      "memory usage: 36.1 MB\n"
     ]
    },
    {
     "data": {
      "text/html": [
       "<div>\n",
       "<style scoped>\n",
       "    .dataframe tbody tr th:only-of-type {\n",
       "        vertical-align: middle;\n",
       "    }\n",
       "\n",
       "    .dataframe tbody tr th {\n",
       "        vertical-align: top;\n",
       "    }\n",
       "\n",
       "    .dataframe thead th {\n",
       "        text-align: right;\n",
       "    }\n",
       "</style>\n",
       "<table border=\"1\" class=\"dataframe\">\n",
       "  <thead>\n",
       "    <tr style=\"text-align: right;\">\n",
       "      <th></th>\n",
       "      <th>Gender</th>\n",
       "      <th>Race</th>\n",
       "      <th>Over_65_Years_Old</th>\n",
       "      <th>General_Health_Status</th>\n",
       "      <th>Obesity_Overweight_Status</th>\n",
       "      <th>Physical_Activity_Status</th>\n",
       "      <th>Tobacco_Usage</th>\n",
       "      <th>Alcohol_Usage</th>\n",
       "      <th>Diabetes_Status</th>\n",
       "      <th>Stroke_Status</th>\n",
       "      <th>Coronary_Heart_Disease_Status</th>\n",
       "      <th>Heart_Attack_Status</th>\n",
       "    </tr>\n",
       "  </thead>\n",
       "  <tbody>\n",
       "    <tr>\n",
       "      <th>0</th>\n",
       "      <td>2.0</td>\n",
       "      <td>1.0</td>\n",
       "      <td>2.0</td>\n",
       "      <td>5.0</td>\n",
       "      <td>1.0</td>\n",
       "      <td>2.0</td>\n",
       "      <td>2.0</td>\n",
       "      <td>2.0</td>\n",
       "      <td>2.0</td>\n",
       "      <td>2.0</td>\n",
       "      <td>2.0</td>\n",
       "      <td>1.0</td>\n",
       "    </tr>\n",
       "    <tr>\n",
       "      <th>2</th>\n",
       "      <td>2.0</td>\n",
       "      <td>2.0</td>\n",
       "      <td>2.0</td>\n",
       "      <td>2.0</td>\n",
       "      <td>2.0</td>\n",
       "      <td>2.0</td>\n",
       "      <td>3.0</td>\n",
       "      <td>2.0</td>\n",
       "      <td>1.0</td>\n",
       "      <td>2.0</td>\n",
       "      <td>1.0</td>\n",
       "      <td>1.0</td>\n",
       "    </tr>\n",
       "    <tr>\n",
       "      <th>3</th>\n",
       "      <td>2.0</td>\n",
       "      <td>1.0</td>\n",
       "      <td>1.0</td>\n",
       "      <td>2.0</td>\n",
       "      <td>2.0</td>\n",
       "      <td>1.0</td>\n",
       "      <td>3.0</td>\n",
       "      <td>1.0</td>\n",
       "      <td>1.0</td>\n",
       "      <td>2.0</td>\n",
       "      <td>2.0</td>\n",
       "      <td>1.0</td>\n",
       "    </tr>\n",
       "    <tr>\n",
       "      <th>5</th>\n",
       "      <td>1.0</td>\n",
       "      <td>1.0</td>\n",
       "      <td>2.0</td>\n",
       "      <td>3.0</td>\n",
       "      <td>1.0</td>\n",
       "      <td>2.0</td>\n",
       "      <td>2.0</td>\n",
       "      <td>2.0</td>\n",
       "      <td>2.0</td>\n",
       "      <td>2.0</td>\n",
       "      <td>2.0</td>\n",
       "      <td>1.0</td>\n",
       "    </tr>\n",
       "    <tr>\n",
       "      <th>6</th>\n",
       "      <td>1.0</td>\n",
       "      <td>1.0</td>\n",
       "      <td>1.0</td>\n",
       "      <td>3.0</td>\n",
       "      <td>2.0</td>\n",
       "      <td>2.0</td>\n",
       "      <td>3.0</td>\n",
       "      <td>2.0</td>\n",
       "      <td>2.0</td>\n",
       "      <td>2.0</td>\n",
       "      <td>2.0</td>\n",
       "      <td>1.0</td>\n",
       "    </tr>\n",
       "  </tbody>\n",
       "</table>\n",
       "</div>"
      ],
      "text/plain": [
       "   Gender  Race  Over_65_Years_Old  General_Health_Status  \\\n",
       "0     2.0   1.0                2.0                    5.0   \n",
       "2     2.0   2.0                2.0                    2.0   \n",
       "3     2.0   1.0                1.0                    2.0   \n",
       "5     1.0   1.0                2.0                    3.0   \n",
       "6     1.0   1.0                1.0                    3.0   \n",
       "\n",
       "   Obesity_Overweight_Status  Physical_Activity_Status  Tobacco_Usage  \\\n",
       "0                        1.0                       2.0            2.0   \n",
       "2                        2.0                       2.0            3.0   \n",
       "3                        2.0                       1.0            3.0   \n",
       "5                        1.0                       2.0            2.0   \n",
       "6                        2.0                       2.0            3.0   \n",
       "\n",
       "   Alcohol_Usage  Diabetes_Status  Stroke_Status  \\\n",
       "0            2.0              2.0            2.0   \n",
       "2            2.0              1.0            2.0   \n",
       "3            1.0              1.0            2.0   \n",
       "5            2.0              2.0            2.0   \n",
       "6            2.0              2.0            2.0   \n",
       "\n",
       "   Coronary_Heart_Disease_Status  Heart_Attack_Status  \n",
       "0                            2.0                  1.0  \n",
       "2                            1.0                  1.0  \n",
       "3                            2.0                  1.0  \n",
       "5                            2.0                  1.0  \n",
       "6                            2.0                  1.0  "
      ]
     },
     "execution_count": 43,
     "metadata": {},
     "output_type": "execute_result"
    }
   ],
   "source": [
    "df.info()\n",
    "df.head()"
   ]
  },
  {
   "cell_type": "code",
   "execution_count": 44,
   "metadata": {
    "execution": {
     "iopub.execute_input": "2022-01-16T18:29:44.367531Z",
     "iopub.status.busy": "2022-01-16T18:29:44.366946Z",
     "iopub.status.idle": "2022-01-16T18:29:46.19364Z",
     "shell.execute_reply": "2022-01-16T18:29:46.192624Z",
     "shell.execute_reply.started": "2022-01-16T18:29:44.367486Z"
    },
    "trusted": true
   },
   "outputs": [
    {
     "data": {
      "text/plain": [
       "array([[<AxesSubplot:title={'center':'Gender'}>,\n",
       "        <AxesSubplot:title={'center':'Race'}>,\n",
       "        <AxesSubplot:title={'center':'Over_65_Years_Old'}>],\n",
       "       [<AxesSubplot:title={'center':'General_Health_Status'}>,\n",
       "        <AxesSubplot:title={'center':'Obesity_Overweight_Status'}>,\n",
       "        <AxesSubplot:title={'center':'Physical_Activity_Status'}>],\n",
       "       [<AxesSubplot:title={'center':'Tobacco_Usage'}>,\n",
       "        <AxesSubplot:title={'center':'Alcohol_Usage'}>,\n",
       "        <AxesSubplot:title={'center':'Diabetes_Status'}>],\n",
       "       [<AxesSubplot:title={'center':'Stroke_Status'}>,\n",
       "        <AxesSubplot:title={'center':'Coronary_Heart_Disease_Status'}>,\n",
       "        <AxesSubplot:title={'center':'Heart_Attack_Status'}>]],\n",
       "      dtype=object)"
      ]
     },
     "execution_count": 44,
     "metadata": {},
     "output_type": "execute_result"
    },
    {
     "data": {
      "image/png": "[encoded data removed]",
      "text/plain": [
       "<Figure size 864x864 with 12 Axes>"
      ]
     },
     "metadata": {
      "needs_background": "light"
     },
     "output_type": "display_data"
    }
   ],
   "source": [
    "df.hist(alpha=0.5, figsize=(12, 12))\n",
    "plt.show()"
   ]
  },
  {
   "cell_type": "code",
   "execution_count": 45,
   "metadata": {},
   "outputs": [
    {
     "data": {
      "text/plain": [
       "<Figure size 720x360 with 0 Axes>"
      ]
     },
     "execution_count": 45,
     "metadata": {},
     "output_type": "execute_result"
    },
    {
     "data": {
      "text/plain": [
       "<AxesSubplot:>"
      ]
     },
     "execution_count": 45,
     "metadata": {},
     "output_type": "execute_result"
    },
    {
     "data": {
      "text/html": [
       "<div>\n",
       "<style scoped>\n",
       "    .dataframe tbody tr th:only-of-type {\n",
       "        vertical-align: middle;\n",
       "    }\n",
       "\n",
       "    .dataframe tbody tr th {\n",
       "        vertical-align: top;\n",
       "    }\n",
       "\n",
       "    .dataframe thead th {\n",
       "        text-align: right;\n",
       "    }\n",
       "</style>\n",
       "<table border=\"1\" class=\"dataframe\">\n",
       "  <thead>\n",
       "    <tr style=\"text-align: right;\">\n",
       "      <th></th>\n",
       "      <th>Gender</th>\n",
       "      <th>Race</th>\n",
       "      <th>Over_65_Years_Old</th>\n",
       "      <th>General_Health_Status</th>\n",
       "      <th>Obesity_Overweight_Status</th>\n",
       "      <th>Physical_Activity_Status</th>\n",
       "      <th>Tobacco_Usage</th>\n",
       "      <th>Alcohol_Usage</th>\n",
       "      <th>Diabetes_Status</th>\n",
       "      <th>Stroke_Status</th>\n",
       "      <th>Coronary_Heart_Disease_Status</th>\n",
       "      <th>Heart_Attack_Status</th>\n",
       "    </tr>\n",
       "  </thead>\n",
       "  <tbody>\n",
       "    <tr>\n",
       "      <th>Gender</th>\n",
       "      <td>1.000000</td>\n",
       "      <td>-0.009887</td>\n",
       "      <td>0.047885</td>\n",
       "      <td>0.020361</td>\n",
       "      <td>-0.103943</td>\n",
       "      <td>0.057943</td>\n",
       "      <td>0.058812</td>\n",
       "      <td>0.100149</td>\n",
       "      <td>0.018061</td>\n",
       "      <td>-0.006127</td>\n",
       "      <td>0.054474</td>\n",
       "      <td>0.068326</td>\n",
       "    </tr>\n",
       "    <tr>\n",
       "      <th>Race</th>\n",
       "      <td>-0.009887</td>\n",
       "      <td>1.000000</td>\n",
       "      <td>-0.158111</td>\n",
       "      <td>0.048044</td>\n",
       "      <td>0.018176</td>\n",
       "      <td>0.039211</td>\n",
       "      <td>0.026883</td>\n",
       "      <td>0.055494</td>\n",
       "      <td>-0.026489</td>\n",
       "      <td>0.012485</td>\n",
       "      <td>0.036017</td>\n",
       "      <td>0.019951</td>\n",
       "    </tr>\n",
       "    <tr>\n",
       "      <th>Over_65_Years_Old</th>\n",
       "      <td>0.047885</td>\n",
       "      <td>-0.158111</td>\n",
       "      <td>1.000000</td>\n",
       "      <td>0.125940</td>\n",
       "      <td>-0.020390</td>\n",
       "      <td>0.092056</td>\n",
       "      <td>-0.005409</td>\n",
       "      <td>0.127083</td>\n",
       "      <td>-0.164055</td>\n",
       "      <td>-0.119760</td>\n",
       "      <td>-0.178603</td>\n",
       "      <td>-0.151590</td>\n",
       "    </tr>\n",
       "    <tr>\n",
       "      <th>General_Health_Status</th>\n",
       "      <td>0.020361</td>\n",
       "      <td>0.048044</td>\n",
       "      <td>0.125940</td>\n",
       "      <td>1.000000</td>\n",
       "      <td>0.145839</td>\n",
       "      <td>0.278375</td>\n",
       "      <td>-0.181105</td>\n",
       "      <td>0.177601</td>\n",
       "      <td>-0.272949</td>\n",
       "      <td>-0.159483</td>\n",
       "      <td>-0.199421</td>\n",
       "      <td>-0.186340</td>\n",
       "    </tr>\n",
       "    <tr>\n",
       "      <th>Obesity_Overweight_Status</th>\n",
       "      <td>-0.103943</td>\n",
       "      <td>0.018176</td>\n",
       "      <td>-0.020390</td>\n",
       "      <td>0.145839</td>\n",
       "      <td>1.000000</td>\n",
       "      <td>0.081679</td>\n",
       "      <td>-0.005108</td>\n",
       "      <td>0.028338</td>\n",
       "      <td>-0.150207</td>\n",
       "      <td>-0.011141</td>\n",
       "      <td>-0.040264</td>\n",
       "      <td>-0.032917</td>\n",
       "    </tr>\n",
       "    <tr>\n",
       "      <th>Physical_Activity_Status</th>\n",
       "      <td>0.057943</td>\n",
       "      <td>0.039211</td>\n",
       "      <td>0.092056</td>\n",
       "      <td>0.278375</td>\n",
       "      <td>0.081679</td>\n",
       "      <td>1.000000</td>\n",
       "      <td>-0.113160</td>\n",
       "      <td>0.157805</td>\n",
       "      <td>-0.139639</td>\n",
       "      <td>-0.080692</td>\n",
       "      <td>-0.075417</td>\n",
       "      <td>-0.079620</td>\n",
       "    </tr>\n",
       "    <tr>\n",
       "      <th>Tobacco_Usage</th>\n",
       "      <td>0.058812</td>\n",
       "      <td>0.026883</td>\n",
       "      <td>-0.005409</td>\n",
       "      <td>-0.181105</td>\n",
       "      <td>-0.005108</td>\n",
       "      <td>-0.113160</td>\n",
       "      <td>1.000000</td>\n",
       "      <td>0.022020</td>\n",
       "      <td>0.038581</td>\n",
       "      <td>0.056058</td>\n",
       "      <td>0.060678</td>\n",
       "      <td>0.084863</td>\n",
       "    </tr>\n",
       "    <tr>\n",
       "      <th>Alcohol_Usage</th>\n",
       "      <td>0.100149</td>\n",
       "      <td>0.055494</td>\n",
       "      <td>0.127083</td>\n",
       "      <td>0.177601</td>\n",
       "      <td>0.028338</td>\n",
       "      <td>0.157805</td>\n",
       "      <td>0.022020</td>\n",
       "      <td>1.000000</td>\n",
       "      <td>-0.143517</td>\n",
       "      <td>-0.071543</td>\n",
       "      <td>-0.064445</td>\n",
       "      <td>-0.070594</td>\n",
       "    </tr>\n",
       "    <tr>\n",
       "      <th>Diabetes_Status</th>\n",
       "      <td>0.018061</td>\n",
       "      <td>-0.026489</td>\n",
       "      <td>-0.164055</td>\n",
       "      <td>-0.272949</td>\n",
       "      <td>-0.150207</td>\n",
       "      <td>-0.139639</td>\n",
       "      <td>0.038581</td>\n",
       "      <td>-0.143517</td>\n",
       "      <td>1.000000</td>\n",
       "      <td>0.100716</td>\n",
       "      <td>0.149446</td>\n",
       "      <td>0.143412</td>\n",
       "    </tr>\n",
       "    <tr>\n",
       "      <th>Stroke_Status</th>\n",
       "      <td>-0.006127</td>\n",
       "      <td>0.012485</td>\n",
       "      <td>-0.119760</td>\n",
       "      <td>-0.159483</td>\n",
       "      <td>-0.011141</td>\n",
       "      <td>-0.080692</td>\n",
       "      <td>0.056058</td>\n",
       "      <td>-0.071543</td>\n",
       "      <td>0.100716</td>\n",
       "      <td>1.000000</td>\n",
       "      <td>0.143234</td>\n",
       "      <td>0.175232</td>\n",
       "    </tr>\n",
       "    <tr>\n",
       "      <th>Coronary_Heart_Disease_Status</th>\n",
       "      <td>0.054474</td>\n",
       "      <td>0.036017</td>\n",
       "      <td>-0.178603</td>\n",
       "      <td>-0.199421</td>\n",
       "      <td>-0.040264</td>\n",
       "      <td>-0.075417</td>\n",
       "      <td>0.060678</td>\n",
       "      <td>-0.064445</td>\n",
       "      <td>0.149446</td>\n",
       "      <td>0.143234</td>\n",
       "      <td>1.000000</td>\n",
       "      <td>0.444339</td>\n",
       "    </tr>\n",
       "    <tr>\n",
       "      <th>Heart_Attack_Status</th>\n",
       "      <td>0.068326</td>\n",
       "      <td>0.019951</td>\n",
       "      <td>-0.151590</td>\n",
       "      <td>-0.186340</td>\n",
       "      <td>-0.032917</td>\n",
       "      <td>-0.079620</td>\n",
       "      <td>0.084863</td>\n",
       "      <td>-0.070594</td>\n",
       "      <td>0.143412</td>\n",
       "      <td>0.175232</td>\n",
       "      <td>0.444339</td>\n",
       "      <td>1.000000</td>\n",
       "    </tr>\n",
       "  </tbody>\n",
       "</table>\n",
       "</div>"
      ],
      "text/plain": [
       "                                 Gender      Race  Over_65_Years_Old  \\\n",
       "Gender                         1.000000 -0.009887           0.047885   \n",
       "Race                          -0.009887  1.000000          -0.158111   \n",
       "Over_65_Years_Old              0.047885 -0.158111           1.000000   \n",
       "General_Health_Status          0.020361  0.048044           0.125940   \n",
       "Obesity_Overweight_Status     -0.103943  0.018176          -0.020390   \n",
       "Physical_Activity_Status       0.057943  0.039211           0.092056   \n",
       "Tobacco_Usage                  0.058812  0.026883          -0.005409   \n",
       "Alcohol_Usage                  0.100149  0.055494           0.127083   \n",
       "Diabetes_Status                0.018061 -0.026489          -0.164055   \n",
       "Stroke_Status                 -0.006127  0.012485          -0.119760   \n",
       "Coronary_Heart_Disease_Status  0.054474  0.036017          -0.178603   \n",
       "Heart_Attack_Status            0.068326  0.019951          -0.151590   \n",
       "\n",
       "                               General_Health_Status  \\\n",
       "Gender                                      0.020361   \n",
       "Race                                        0.048044   \n",
       "Over_65_Years_Old                           0.125940   \n",
       "General_Health_Status                       1.000000   \n",
       "Obesity_Overweight_Status                   0.145839   \n",
       "Physical_Activity_Status                    0.278375   \n",
       "Tobacco_Usage                              -0.181105   \n",
       "Alcohol_Usage                               0.177601   \n",
       "Diabetes_Status                            -0.272949   \n",
       "Stroke_Status                              -0.159483   \n",
       "Coronary_Heart_Disease_Status              -0.199421   \n",
       "Heart_Attack_Status                        -0.186340   \n",
       "\n",
       "                               Obesity_Overweight_Status  \\\n",
       "Gender                                         -0.103943   \n",
       "Race                                            0.018176   \n",
       "Over_65_Years_Old                              -0.020390   \n",
       "General_Health_Status                           0.145839   \n",
       "Obesity_Overweight_Status                       1.000000   \n",
       "Physical_Activity_Status                        0.081679   \n",
       "Tobacco_Usage                                  -0.005108   \n",
       "Alcohol_Usage                                   0.028338   \n",
       "Diabetes_Status                                -0.150207   \n",
       "Stroke_Status                                  -0.011141   \n",
       "Coronary_Heart_Disease_Status                  -0.040264   \n",
       "Heart_Attack_Status                            -0.032917   \n",
       "\n",
       "                               Physical_Activity_Status  Tobacco_Usage  \\\n",
       "Gender                                         0.057943       0.058812   \n",
       "Race                                           0.039211       0.026883   \n",
       "Over_65_Years_Old                              0.092056      -0.005409   \n",
       "General_Health_Status                          0.278375      -0.181105   \n",
       "Obesity_Overweight_Status                      0.081679      -0.005108   \n",
       "Physical_Activity_Status                       1.000000      -0.113160   \n",
       "Tobacco_Usage                                 -0.113160       1.000000   \n",
       "Alcohol_Usage                                  0.157805       0.022020   \n",
       "Diabetes_Status                               -0.139639       0.038581   \n",
       "Stroke_Status                                 -0.080692       0.056058   \n",
       "Coronary_Heart_Disease_Status                 -0.075417       0.060678   \n",
       "Heart_Attack_Status                           -0.079620       0.084863   \n",
       "\n",
       "                               Alcohol_Usage  Diabetes_Status  Stroke_Status  \\\n",
       "Gender                              0.100149         0.018061      -0.006127   \n",
       "Race                                0.055494        -0.026489       0.012485   \n",
       "Over_65_Years_Old                   0.127083        -0.164055      -0.119760   \n",
       "General_Health_Status               0.177601        -0.272949      -0.159483   \n",
       "Obesity_Overweight_Status           0.028338        -0.150207      -0.011141   \n",
       "Physical_Activity_Status            0.157805        -0.139639      -0.080692   \n",
       "Tobacco_Usage                       0.022020         0.038581       0.056058   \n",
       "Alcohol_Usage                       1.000000        -0.143517      -0.071543   \n",
       "Diabetes_Status                    -0.143517         1.000000       0.100716   \n",
       "Stroke_Status                      -0.071543         0.100716       1.000000   \n",
       "Coronary_Heart_Disease_Status      -0.064445         0.149446       0.143234   \n",
       "Heart_Attack_Status                -0.070594         0.143412       0.175232   \n",
       "\n",
       "                               Coronary_Heart_Disease_Status  \\\n",
       "Gender                                              0.054474   \n",
       "Race                                                0.036017   \n",
       "Over_65_Years_Old                                  -0.178603   \n",
       "General_Health_Status                              -0.199421   \n",
       "Obesity_Overweight_Status                          -0.040264   \n",
       "Physical_Activity_Status                           -0.075417   \n",
       "Tobacco_Usage                                       0.060678   \n",
       "Alcohol_Usage                                      -0.064445   \n",
       "Diabetes_Status                                     0.149446   \n",
       "Stroke_Status                                       0.143234   \n",
       "Coronary_Heart_Disease_Status                       1.000000   \n",
       "Heart_Attack_Status                                 0.444339   \n",
       "\n",
       "                               Heart_Attack_Status  \n",
       "Gender                                    0.068326  \n",
       "Race                                      0.019951  \n",
       "Over_65_Years_Old                        -0.151590  \n",
       "General_Health_Status                    -0.186340  \n",
       "Obesity_Overweight_Status                -0.032917  \n",
       "Physical_Activity_Status                 -0.079620  \n",
       "Tobacco_Usage                             0.084863  \n",
       "Alcohol_Usage                            -0.070594  \n",
       "Diabetes_Status                           0.143412  \n",
       "Stroke_Status                             0.175232  \n",
       "Coronary_Heart_Disease_Status             0.444339  \n",
       "Heart_Attack_Status                       1.000000  "
      ]
     },
     "execution_count": 45,
     "metadata": {},
     "output_type": "execute_result"
    },
    {
     "data": {
      "image/png": "[encoded data removed]",
      "text/plain": [
       "<Figure size 720x360 with 2 Axes>"
      ]
     },
     "metadata": {
      "needs_background": "light"
     },
     "output_type": "display_data"
    }
   ],
   "source": [
    "plt.figure(figsize=(10, 5))\n",
    "c = df.corr()\n",
    "sns.heatmap(c, cmap=\"BrBG\", annot=True)\n",
    "c"
   ]
  }
 ],
 "metadata": {
  "kaggle": {
   "accelerator": "none",
   "dataSources": [
    {
     "datasetId": 1839444,
     "sourceId": 3002675,
     "sourceType": "datasetVersion"
    }
   ],
   "isGpuEnabled": false,
   "isInternetEnabled": false,
   "language": "python",
   "sourceType": "notebook"
  },
  "kernelspec": {
   "display_name": "Python 3",
   "language": "python",
   "name": "python3"
  },
  "language_info": {
   "codemirror_mode": {
    "name": "ipython",
    "version": 3
   },
   "file_extension": ".py",
   "mimetype": "text/x-python",
   "name": "python",
   "nbconvert_exporter": "python",
   "pygments_lexer": "ipython3",
   "version": "3.9.1"
  }
 },
 "nbformat": 4,
 "nbformat_minor": 4
}
