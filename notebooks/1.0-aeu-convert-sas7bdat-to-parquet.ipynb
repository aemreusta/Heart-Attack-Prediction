{
 "cells": [
  {
   "cell_type": "code",
   "execution_count": 1,
   "metadata": {
    "colab": {
     "base_uri": "https://localhost:8080/"
    },
    "executionInfo": {
     "elapsed": 380364,
     "status": "ok",
     "timestamp": 1674727692517,
     "user": {
      "displayName": "Ahmet Emre Usta",
      "userId": "15508369964865834704"
     },
     "user_tz": -180
    },
    "id": "nhRnsFi6fLdw",
    "outputId": "8eb920f5-ba6e-4f4f-cd1c-2a3366442d04"
   },
   "outputs": [
    {
     "name": "stderr",
     "output_type": "stream",
     "text": [
      "\u001b[33m[2019.sas7bdat] header length 131072 != 8192\u001b[0m\n"
     ]
    }
   ],
   "source": [
    "from sas7bdat import SAS7BDAT as sas\n",
    "\n",
    "with sas(\n",
    "    \"/Users/emre/GitHub/heart-attack-prediction/data/raw/sas7bdat/2019.sas7bdat\"\n",
    ") as f:\n",
    "    df_sas = f.to_data_frame()"
   ]
  },
  {
   "cell_type": "code",
   "execution_count": 2,
   "metadata": {
    "colab": {
     "base_uri": "https://localhost:8080/",
     "height": 300
    },
    "executionInfo": {
     "elapsed": 417,
     "status": "ok",
     "timestamp": 1674727702916,
     "user": {
      "displayName": "Ahmet Emre Usta",
      "userId": "15508369964865834704"
     },
     "user_tz": -180
    },
    "id": "rDhdq0wcg5Ft",
    "outputId": "6a9e8e9d-ae87-4d0c-ccf3-561b7f52cc25"
   },
   "outputs": [
    {
     "data": {
      "text/html": [
       "<div>\n",
       "<style scoped>\n",
       "    .dataframe tbody tr th:only-of-type {\n",
       "        vertical-align: middle;\n",
       "    }\n",
       "\n",
       "    .dataframe tbody tr th {\n",
       "        vertical-align: top;\n",
       "    }\n",
       "\n",
       "    .dataframe thead th {\n",
       "        text-align: right;\n",
       "    }\n",
       "</style>\n",
       "<table border=\"1\" class=\"dataframe\">\n",
       "  <thead>\n",
       "    <tr style=\"text-align: right;\">\n",
       "      <th></th>\n",
       "      <th>_STATE</th>\n",
       "      <th>FMONTH</th>\n",
       "      <th>IDATE</th>\n",
       "      <th>IMONTH</th>\n",
       "      <th>IDAY</th>\n",
       "      <th>IYEAR</th>\n",
       "      <th>DISPCODE</th>\n",
       "      <th>SEQNO</th>\n",
       "      <th>_PSU</th>\n",
       "      <th>CTELENM1</th>\n",
       "      <th>...</th>\n",
       "      <th>_VEGESU1</th>\n",
       "      <th>_FRTLT1A</th>\n",
       "      <th>_VEGLT1A</th>\n",
       "      <th>_FRT16A</th>\n",
       "      <th>_VEG23A</th>\n",
       "      <th>_FRUITE1</th>\n",
       "      <th>_VEGETE1</th>\n",
       "      <th>_FLSHOT7</th>\n",
       "      <th>_PNEUMO3</th>\n",
       "      <th>_AIDTST4</th>\n",
       "    </tr>\n",
       "  </thead>\n",
       "  <tbody>\n",
       "    <tr>\n",
       "      <th>0</th>\n",
       "      <td>1.0</td>\n",
       "      <td>1.0</td>\n",
       "      <td>01182019</td>\n",
       "      <td>01</td>\n",
       "      <td>18</td>\n",
       "      <td>2019</td>\n",
       "      <td>1100.0</td>\n",
       "      <td>2019000001</td>\n",
       "      <td>2.019000e+09</td>\n",
       "      <td>1.0</td>\n",
       "      <td>...</td>\n",
       "      <td>114.0</td>\n",
       "      <td>1.0</td>\n",
       "      <td>1.0</td>\n",
       "      <td>1.0</td>\n",
       "      <td>1.0</td>\n",
       "      <td>0.0</td>\n",
       "      <td>0.0</td>\n",
       "      <td>2.0</td>\n",
       "      <td>1.0</td>\n",
       "      <td>2.0</td>\n",
       "    </tr>\n",
       "    <tr>\n",
       "      <th>1</th>\n",
       "      <td>1.0</td>\n",
       "      <td>1.0</td>\n",
       "      <td>01132019</td>\n",
       "      <td>01</td>\n",
       "      <td>13</td>\n",
       "      <td>2019</td>\n",
       "      <td>1100.0</td>\n",
       "      <td>2019000002</td>\n",
       "      <td>2.019000e+09</td>\n",
       "      <td>1.0</td>\n",
       "      <td>...</td>\n",
       "      <td>121.0</td>\n",
       "      <td>1.0</td>\n",
       "      <td>1.0</td>\n",
       "      <td>1.0</td>\n",
       "      <td>1.0</td>\n",
       "      <td>0.0</td>\n",
       "      <td>0.0</td>\n",
       "      <td>1.0</td>\n",
       "      <td>1.0</td>\n",
       "      <td>2.0</td>\n",
       "    </tr>\n",
       "    <tr>\n",
       "      <th>2</th>\n",
       "      <td>1.0</td>\n",
       "      <td>1.0</td>\n",
       "      <td>01182019</td>\n",
       "      <td>01</td>\n",
       "      <td>18</td>\n",
       "      <td>2019</td>\n",
       "      <td>1100.0</td>\n",
       "      <td>2019000003</td>\n",
       "      <td>2.019000e+09</td>\n",
       "      <td>1.0</td>\n",
       "      <td>...</td>\n",
       "      <td>164.0</td>\n",
       "      <td>1.0</td>\n",
       "      <td>1.0</td>\n",
       "      <td>1.0</td>\n",
       "      <td>1.0</td>\n",
       "      <td>0.0</td>\n",
       "      <td>0.0</td>\n",
       "      <td>1.0</td>\n",
       "      <td>2.0</td>\n",
       "      <td>2.0</td>\n",
       "    </tr>\n",
       "    <tr>\n",
       "      <th>3</th>\n",
       "      <td>1.0</td>\n",
       "      <td>1.0</td>\n",
       "      <td>01182019</td>\n",
       "      <td>01</td>\n",
       "      <td>18</td>\n",
       "      <td>2019</td>\n",
       "      <td>1200.0</td>\n",
       "      <td>2019000004</td>\n",
       "      <td>2.019000e+09</td>\n",
       "      <td>1.0</td>\n",
       "      <td>...</td>\n",
       "      <td>NaN</td>\n",
       "      <td>9.0</td>\n",
       "      <td>9.0</td>\n",
       "      <td>1.0</td>\n",
       "      <td>1.0</td>\n",
       "      <td>1.0</td>\n",
       "      <td>1.0</td>\n",
       "      <td>9.0</td>\n",
       "      <td>9.0</td>\n",
       "      <td>NaN</td>\n",
       "    </tr>\n",
       "    <tr>\n",
       "      <th>4</th>\n",
       "      <td>1.0</td>\n",
       "      <td>1.0</td>\n",
       "      <td>01042019</td>\n",
       "      <td>01</td>\n",
       "      <td>04</td>\n",
       "      <td>2019</td>\n",
       "      <td>1100.0</td>\n",
       "      <td>2019000005</td>\n",
       "      <td>2.019000e+09</td>\n",
       "      <td>1.0</td>\n",
       "      <td>...</td>\n",
       "      <td>178.0</td>\n",
       "      <td>1.0</td>\n",
       "      <td>1.0</td>\n",
       "      <td>1.0</td>\n",
       "      <td>1.0</td>\n",
       "      <td>0.0</td>\n",
       "      <td>0.0</td>\n",
       "      <td>2.0</td>\n",
       "      <td>1.0</td>\n",
       "      <td>2.0</td>\n",
       "    </tr>\n",
       "  </tbody>\n",
       "</table>\n",
       "<p>5 rows × 342 columns</p>\n",
       "</div>"
      ],
      "text/plain": [
       "   _STATE  FMONTH     IDATE IMONTH IDAY IYEAR  DISPCODE       SEQNO  \\\n",
       "0     1.0     1.0  01182019     01   18  2019    1100.0  2019000001   \n",
       "1     1.0     1.0  01132019     01   13  2019    1100.0  2019000002   \n",
       "2     1.0     1.0  01182019     01   18  2019    1100.0  2019000003   \n",
       "3     1.0     1.0  01182019     01   18  2019    1200.0  2019000004   \n",
       "4     1.0     1.0  01042019     01   04  2019    1100.0  2019000005   \n",
       "\n",
       "           _PSU  CTELENM1  ...  _VEGESU1  _FRTLT1A  _VEGLT1A  _FRT16A  \\\n",
       "0  2.019000e+09       1.0  ...     114.0       1.0       1.0      1.0   \n",
       "1  2.019000e+09       1.0  ...     121.0       1.0       1.0      1.0   \n",
       "2  2.019000e+09       1.0  ...     164.0       1.0       1.0      1.0   \n",
       "3  2.019000e+09       1.0  ...       NaN       9.0       9.0      1.0   \n",
       "4  2.019000e+09       1.0  ...     178.0       1.0       1.0      1.0   \n",
       "\n",
       "   _VEG23A  _FRUITE1  _VEGETE1  _FLSHOT7  _PNEUMO3  _AIDTST4  \n",
       "0      1.0       0.0       0.0       2.0       1.0       2.0  \n",
       "1      1.0       0.0       0.0       1.0       1.0       2.0  \n",
       "2      1.0       0.0       0.0       1.0       2.0       2.0  \n",
       "3      1.0       1.0       1.0       9.0       9.0       NaN  \n",
       "4      1.0       0.0       0.0       2.0       1.0       2.0  \n",
       "\n",
       "[5 rows x 342 columns]"
      ]
     },
     "execution_count": 2,
     "metadata": {},
     "output_type": "execute_result"
    }
   ],
   "source": [
    "df_sas.head()"
   ]
  },
  {
   "cell_type": "code",
   "execution_count": 3,
   "metadata": {
    "colab": {
     "base_uri": "https://localhost:8080/"
    },
    "executionInfo": {
     "elapsed": 269,
     "status": "ok",
     "timestamp": 1674727719943,
     "user": {
      "displayName": "Ahmet Emre Usta",
      "userId": "15508369964865834704"
     },
     "user_tz": -180
    },
    "id": "nagc1gKZjOg8",
    "outputId": "9f49e6b4-cf29-467e-b435-6a3dc0d528ba"
   },
   "outputs": [
    {
     "data": {
      "text/plain": [
       "(418268, 342)"
      ]
     },
     "execution_count": 3,
     "metadata": {},
     "output_type": "execute_result"
    }
   ],
   "source": [
    "df_sas.shape"
   ]
  },
  {
   "cell_type": "code",
   "execution_count": 4,
   "metadata": {
    "id": "24A0RYychCZQ"
   },
   "outputs": [],
   "source": [
    "df_sas.to_parquet(\n",
    "    \"/Users/emre/GitHub/heart-attack-prediction/data/raw/bfrss2019.parquet\",\n",
    "    compression=\"brotli\",\n",
    ")"
   ]
  },
  {
   "cell_type": "code",
   "execution_count": null,
   "metadata": {},
   "outputs": [],
   "source": []
  }
 ],
 "metadata": {
  "colab": {
   "provenance": []
  },
  "kernelspec": {
   "display_name": "Python 3",
   "name": "python3"
  },
  "language_info": {
   "codemirror_mode": {
    "name": "ipython",
    "version": 3
   },
   "file_extension": ".py",
   "mimetype": "text/x-python",
   "name": "python",
   "nbconvert_exporter": "python",
   "pygments_lexer": "ipython3",
   "version": "3.10.10"
  }
 },
 "nbformat": 4,
 "nbformat_minor": 0
}
