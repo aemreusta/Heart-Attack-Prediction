{
 "nbformat": 4,
 "nbformat_minor": 0,
 "metadata": {
  "colab": {
   "provenance": []
  },
  "kernelspec": {
   "name": "python3",
   "display_name": "Python 3"
  },
  "language_info": {
   "name": "python"
  }
 },
 "cells": [
  {
   "cell_type": "code",
   "source": [
    "from google.colab import drive\n",
    "\n",
    "drive.mount(\"/content/drive\")"
   ],
   "metadata": {
    "colab": {
     "base_uri": "https://localhost:8080/"
    },
    "id": "FRgH7sNNftxc",
    "executionInfo": {
     "status": "ok",
     "timestamp": 1674726943140,
     "user_tz": -180,
     "elapsed": 46929,
     "user": {
      "displayName": "Ahmet Emre Usta",
      "userId": "15508369964865834704"
     }
    },
    "outputId": "0fda30d3-8c7b-47e3-ba32-ae9d28ddce9f"
   },
   "execution_count": null,
   "outputs": [
    {
     "output_type": "stream",
     "name": "stdout",
     "text": [
      "Mounted at /content/drive\n"
     ]
    }
   ]
  },
  {
   "cell_type": "code",
   "source": [
    "!pip install sas7bdat"
   ],
   "metadata": {
    "colab": {
     "base_uri": "https://localhost:8080/"
    },
    "id": "0TP9f0nwhoIq",
    "executionInfo": {
     "status": "ok",
     "timestamp": 1674727308248,
     "user_tz": -180,
     "elapsed": 5490,
     "user": {
      "displayName": "Ahmet Emre Usta",
      "userId": "15508369964865834704"
     }
    },
    "outputId": "39dec0a7-1ffa-4735-c537-f5ebc7118a92"
   },
   "execution_count": null,
   "outputs": [
    {
     "output_type": "stream",
     "name": "stdout",
     "text": [
      "Looking in indexes: https://pypi.org/simple, https://us-python.pkg.dev/colab-wheels/public/simple/\n",
      "Collecting sas7bdat\n",
      "  Downloading sas7bdat-2.2.3.tar.gz (16 kB)\n",
      "  Preparing metadata (setup.py) ... \u001b[?25l\u001b[?25hdone\n",
      "Requirement already satisfied: six>=1.8.0 in /usr/local/lib/python3.8/dist-packages (from sas7bdat) (1.15.0)\n",
      "Building wheels for collected packages: sas7bdat\n",
      "  Building wheel for sas7bdat (setup.py) ... \u001b[?25l\u001b[?25hdone\n",
      "  Created wheel for sas7bdat: filename=sas7bdat-2.2.3-py3-none-any.whl size=16308 sha256=25b21abf13819787ebb64dc146c78a69851d7a9bf311173869e5e67f3b661450\n",
      "  Stored in directory: /root/.cache/pip/wheels/7f/b3/50/0ef27ea1b8d14375a602b74e4dc756cd626e9372c0c27f6ee2\n",
      "Successfully built sas7bdat\n",
      "Installing collected packages: sas7bdat\n",
      "Successfully installed sas7bdat-2.2.3\n"
     ]
    }
   ]
  },
  {
   "cell_type": "code",
   "execution_count": null,
   "metadata": {
    "colab": {
     "base_uri": "https://localhost:8080/"
    },
    "id": "nhRnsFi6fLdw",
    "executionInfo": {
     "status": "ok",
     "timestamp": 1674727692517,
     "user_tz": -180,
     "elapsed": 380364,
     "user": {
      "displayName": "Ahmet Emre Usta",
      "userId": "15508369964865834704"
     }
    },
    "outputId": "8eb920f5-ba6e-4f4f-cd1c-2a3366442d04"
   },
   "outputs": [
    {
     "output_type": "stream",
     "name": "stderr",
     "text": [
      "\u001b[33m[sasdata.sas7bdat] header length 131072 != 8192\u001b[0m\n",
      "WARNING:/content/drive/MyDrive/Heart Attack Prediction Project/data/raw/sasdata.sas7bdat:\u001b[33m[sasdata.sas7bdat] header length 131072 != 8192\u001b[0m\n"
     ]
    }
   ],
   "source": [
    "import pandas as pd\n",
    "from sas7bdat import SAS7BDAT as sas\n",
    "\n",
    "with sas(\n",
    "    \"/content/drive/MyDrive/Heart Attack Prediction Project/data/raw/sasdata.sas7bdat\"\n",
    ") as f:\n",
    "    df_sas = f.to_data_frame()"
   ]
  },
  {
   "cell_type": "code",
   "source": [
    "df_sas.head()"
   ],
   "metadata": {
    "colab": {
     "base_uri": "https://localhost:8080/",
     "height": 300
    },
    "id": "rDhdq0wcg5Ft",
    "executionInfo": {
     "status": "ok",
     "timestamp": 1674727702916,
     "user_tz": -180,
     "elapsed": 417,
     "user": {
      "displayName": "Ahmet Emre Usta",
      "userId": "15508369964865834704"
     }
    },
    "outputId": "6a9e8e9d-ae87-4d0c-ccf3-561b7f52cc25"
   },
   "execution_count": null,
   "outputs": [
    {
     "output_type": "execute_result",
     "data": {
      "text/plain": [
       "   _STATE  FMONTH     IDATE IMONTH IDAY IYEAR  DISPCODE       SEQNO  \\\n",
       "0     1.0     1.0  01192021     01   19  2021    1100.0  2021000001   \n",
       "1     1.0     1.0  01212021     01   21  2021    1100.0  2021000002   \n",
       "2     1.0     1.0  01212021     01   21  2021    1100.0  2021000003   \n",
       "3     1.0     1.0  01172021     01   17  2021    1100.0  2021000004   \n",
       "4     1.0     1.0  01152021     01   15  2021    1100.0  2021000005   \n",
       "\n",
       "           _PSU  CTELENM1  ...  _FRTRES1  _VEGRES1  _FRUTSU1  _VEGESU1  \\\n",
       "0  2.021000e+09       1.0  ...       1.0       1.0     100.0     214.0   \n",
       "1  2.021000e+09       1.0  ...       1.0       1.0     100.0     128.0   \n",
       "2  2.021000e+09       1.0  ...       1.0       1.0     100.0      71.0   \n",
       "3  2.021000e+09       1.0  ...       1.0       1.0     114.0     165.0   \n",
       "4  2.021000e+09       1.0  ...       1.0       1.0     100.0     258.0   \n",
       "\n",
       "   _FRTLT1A  _VEGLT1A  _FRT16A  _VEG23A  _FRUITE1  _VEGETE1  \n",
       "0       1.0       1.0      1.0      1.0       0.0       0.0  \n",
       "1       1.0       1.0      1.0      1.0       0.0       0.0  \n",
       "2       1.0       2.0      1.0      1.0       0.0       0.0  \n",
       "3       1.0       1.0      1.0      1.0       0.0       0.0  \n",
       "4       1.0       1.0      1.0      1.0       0.0       0.0  \n",
       "\n",
       "[5 rows x 303 columns]"
      ],
      "text/html": [
       "\n",
       "  <div id=\"df-5936feb2-c2b2-43be-a61e-6c3121082dcc\">\n",
       "    <div class=\"colab-df-container\">\n",
       "      <div>\n",
       "<style scoped>\n",
       "    .dataframe tbody tr th:only-of-type {\n",
       "        vertical-align: middle;\n",
       "    }\n",
       "\n",
       "    .dataframe tbody tr th {\n",
       "        vertical-align: top;\n",
       "    }\n",
       "\n",
       "    .dataframe thead th {\n",
       "        text-align: right;\n",
       "    }\n",
       "</style>\n",
       "<table border=\"1\" class=\"dataframe\">\n",
       "  <thead>\n",
       "    <tr style=\"text-align: right;\">\n",
       "      <th></th>\n",
       "      <th>_STATE</th>\n",
       "      <th>FMONTH</th>\n",
       "      <th>IDATE</th>\n",
       "      <th>IMONTH</th>\n",
       "      <th>IDAY</th>\n",
       "      <th>IYEAR</th>\n",
       "      <th>DISPCODE</th>\n",
       "      <th>SEQNO</th>\n",
       "      <th>_PSU</th>\n",
       "      <th>CTELENM1</th>\n",
       "      <th>...</th>\n",
       "      <th>_FRTRES1</th>\n",
       "      <th>_VEGRES1</th>\n",
       "      <th>_FRUTSU1</th>\n",
       "      <th>_VEGESU1</th>\n",
       "      <th>_FRTLT1A</th>\n",
       "      <th>_VEGLT1A</th>\n",
       "      <th>_FRT16A</th>\n",
       "      <th>_VEG23A</th>\n",
       "      <th>_FRUITE1</th>\n",
       "      <th>_VEGETE1</th>\n",
       "    </tr>\n",
       "  </thead>\n",
       "  <tbody>\n",
       "    <tr>\n",
       "      <th>0</th>\n",
       "      <td>1.0</td>\n",
       "      <td>1.0</td>\n",
       "      <td>01192021</td>\n",
       "      <td>01</td>\n",
       "      <td>19</td>\n",
       "      <td>2021</td>\n",
       "      <td>1100.0</td>\n",
       "      <td>2021000001</td>\n",
       "      <td>2.021000e+09</td>\n",
       "      <td>1.0</td>\n",
       "      <td>...</td>\n",
       "      <td>1.0</td>\n",
       "      <td>1.0</td>\n",
       "      <td>100.0</td>\n",
       "      <td>214.0</td>\n",
       "      <td>1.0</td>\n",
       "      <td>1.0</td>\n",
       "      <td>1.0</td>\n",
       "      <td>1.0</td>\n",
       "      <td>0.0</td>\n",
       "      <td>0.0</td>\n",
       "    </tr>\n",
       "    <tr>\n",
       "      <th>1</th>\n",
       "      <td>1.0</td>\n",
       "      <td>1.0</td>\n",
       "      <td>01212021</td>\n",
       "      <td>01</td>\n",
       "      <td>21</td>\n",
       "      <td>2021</td>\n",
       "      <td>1100.0</td>\n",
       "      <td>2021000002</td>\n",
       "      <td>2.021000e+09</td>\n",
       "      <td>1.0</td>\n",
       "      <td>...</td>\n",
       "      <td>1.0</td>\n",
       "      <td>1.0</td>\n",
       "      <td>100.0</td>\n",
       "      <td>128.0</td>\n",
       "      <td>1.0</td>\n",
       "      <td>1.0</td>\n",
       "      <td>1.0</td>\n",
       "      <td>1.0</td>\n",
       "      <td>0.0</td>\n",
       "      <td>0.0</td>\n",
       "    </tr>\n",
       "    <tr>\n",
       "      <th>2</th>\n",
       "      <td>1.0</td>\n",
       "      <td>1.0</td>\n",
       "      <td>01212021</td>\n",
       "      <td>01</td>\n",
       "      <td>21</td>\n",
       "      <td>2021</td>\n",
       "      <td>1100.0</td>\n",
       "      <td>2021000003</td>\n",
       "      <td>2.021000e+09</td>\n",
       "      <td>1.0</td>\n",
       "      <td>...</td>\n",
       "      <td>1.0</td>\n",
       "      <td>1.0</td>\n",
       "      <td>100.0</td>\n",
       "      <td>71.0</td>\n",
       "      <td>1.0</td>\n",
       "      <td>2.0</td>\n",
       "      <td>1.0</td>\n",
       "      <td>1.0</td>\n",
       "      <td>0.0</td>\n",
       "      <td>0.0</td>\n",
       "    </tr>\n",
       "    <tr>\n",
       "      <th>3</th>\n",
       "      <td>1.0</td>\n",
       "      <td>1.0</td>\n",
       "      <td>01172021</td>\n",
       "      <td>01</td>\n",
       "      <td>17</td>\n",
       "      <td>2021</td>\n",
       "      <td>1100.0</td>\n",
       "      <td>2021000004</td>\n",
       "      <td>2.021000e+09</td>\n",
       "      <td>1.0</td>\n",
       "      <td>...</td>\n",
       "      <td>1.0</td>\n",
       "      <td>1.0</td>\n",
       "      <td>114.0</td>\n",
       "      <td>165.0</td>\n",
       "      <td>1.0</td>\n",
       "      <td>1.0</td>\n",
       "      <td>1.0</td>\n",
       "      <td>1.0</td>\n",
       "      <td>0.0</td>\n",
       "      <td>0.0</td>\n",
       "    </tr>\n",
       "    <tr>\n",
       "      <th>4</th>\n",
       "      <td>1.0</td>\n",
       "      <td>1.0</td>\n",
       "      <td>01152021</td>\n",
       "      <td>01</td>\n",
       "      <td>15</td>\n",
       "      <td>2021</td>\n",
       "      <td>1100.0</td>\n",
       "      <td>2021000005</td>\n",
       "      <td>2.021000e+09</td>\n",
       "      <td>1.0</td>\n",
       "      <td>...</td>\n",
       "      <td>1.0</td>\n",
       "      <td>1.0</td>\n",
       "      <td>100.0</td>\n",
       "      <td>258.0</td>\n",
       "      <td>1.0</td>\n",
       "      <td>1.0</td>\n",
       "      <td>1.0</td>\n",
       "      <td>1.0</td>\n",
       "      <td>0.0</td>\n",
       "      <td>0.0</td>\n",
       "    </tr>\n",
       "  </tbody>\n",
       "</table>\n",
       "<p>5 rows × 303 columns</p>\n",
       "</div>\n",
       "      <button class=\"colab-df-convert\" onclick=\"convertToInteractive('df-5936feb2-c2b2-43be-a61e-6c3121082dcc')\"\n",
       "              title=\"Convert this dataframe to an interactive table.\"\n",
       "              style=\"display:none;\">\n",
       "        \n",
       "  <svg xmlns=\"http://www.w3.org/2000/svg\" height=\"24px\"viewBox=\"0 0 24 24\"\n",
       "       width=\"24px\">\n",
       "    <path d=\"M0 0h24v24H0V0z\" fill=\"none\"/>\n",
       "    <path d=\"M18.56 5.44l.94 2.06.94-2.06 2.06-.94-2.06-.94-.94-2.06-.94 2.06-2.06.94zm-11 1L8.5 8.5l.94-2.06 2.06-.94-2.06-.94L8.5 2.5l-.94 2.06-2.06.94zm10 10l.94 2.06.94-2.06 2.06-.94-2.06-.94-.94-2.06-.94 2.06-2.06.94z\"/><path d=\"M17.41 7.96l-1.37-1.37c-.4-.4-.92-.59-1.43-.59-.52 0-1.04.2-1.43.59L10.3 9.45l-7.72 7.72c-.78.78-.78 2.05 0 2.83L4 21.41c.39.39.9.59 1.41.59.51 0 1.02-.2 1.41-.59l7.78-7.78 2.81-2.81c.8-.78.8-2.07 0-2.86zM5.41 20L4 18.59l7.72-7.72 1.47 1.35L5.41 20z\"/>\n",
       "  </svg>\n",
       "      </button>\n",
       "      \n",
       "  <style>\n",
       "    .colab-df-container {\n",
       "      display:flex;\n",
       "      flex-wrap:wrap;\n",
       "      gap: 12px;\n",
       "    }\n",
       "\n",
       "    .colab-df-convert {\n",
       "      background-color: #E8F0FE;\n",
       "      border: none;\n",
       "      border-radius: 50%;\n",
       "      cursor: pointer;\n",
       "      display: none;\n",
       "      fill: #1967D2;\n",
       "      height: 32px;\n",
       "      padding: 0 0 0 0;\n",
       "      width: 32px;\n",
       "    }\n",
       "\n",
       "    .colab-df-convert:hover {\n",
       "      background-color: #E2EBFA;\n",
       "      box-shadow: 0px 1px 2px rgba(60, 64, 67, 0.3), 0px 1px 3px 1px rgba(60, 64, 67, 0.15);\n",
       "      fill: #174EA6;\n",
       "    }\n",
       "\n",
       "    [theme=dark] .colab-df-convert {\n",
       "      background-color: #3B4455;\n",
       "      fill: #D2E3FC;\n",
       "    }\n",
       "\n",
       "    [theme=dark] .colab-df-convert:hover {\n",
       "      background-color: #434B5C;\n",
       "      box-shadow: 0px 1px 3px 1px rgba(0, 0, 0, 0.15);\n",
       "      filter: drop-shadow(0px 1px 2px rgba(0, 0, 0, 0.3));\n",
       "      fill: #FFFFFF;\n",
       "    }\n",
       "  </style>\n",
       "\n",
       "      <script>\n",
       "        const buttonEl =\n",
       "          document.querySelector('#df-5936feb2-c2b2-43be-a61e-6c3121082dcc button.colab-df-convert');\n",
       "        buttonEl.style.display =\n",
       "          google.colab.kernel.accessAllowed ? 'block' : 'none';\n",
       "\n",
       "        async function convertToInteractive(key) {\n",
       "          const element = document.querySelector('#df-5936feb2-c2b2-43be-a61e-6c3121082dcc');\n",
       "          const dataTable =\n",
       "            await google.colab.kernel.invokeFunction('convertToInteractive',\n",
       "                                                     [key], {});\n",
       "          if (!dataTable) return;\n",
       "\n",
       "          const docLinkHtml = 'Like what you see? Visit the ' +\n",
       "            '<a target=\"_blank\" href=https://colab.research.google.com/notebooks/data_table.ipynb>data table notebook</a>'\n",
       "            + ' to learn more about interactive tables.';\n",
       "          element.innerHTML = '';\n",
       "          dataTable['output_type'] = 'display_data';\n",
       "          await google.colab.output.renderOutput(dataTable, element);\n",
       "          const docLink = document.createElement('div');\n",
       "          docLink.innerHTML = docLinkHtml;\n",
       "          element.appendChild(docLink);\n",
       "        }\n",
       "      </script>\n",
       "    </div>\n",
       "  </div>\n",
       "  "
      ]
     },
     "metadata": {},
     "execution_count": 5
    }
   ]
  },
  {
   "cell_type": "code",
   "source": [
    "df_sas.shape"
   ],
   "metadata": {
    "colab": {
     "base_uri": "https://localhost:8080/"
    },
    "id": "nagc1gKZjOg8",
    "executionInfo": {
     "status": "ok",
     "timestamp": 1674727719943,
     "user_tz": -180,
     "elapsed": 269,
     "user": {
      "displayName": "Ahmet Emre Usta",
      "userId": "15508369964865834704"
     }
    },
    "outputId": "9f49e6b4-cf29-467e-b435-6a3dc0d528ba"
   },
   "execution_count": null,
   "outputs": [
    {
     "output_type": "execute_result",
     "data": {
      "text/plain": [
       "(438693, 303)"
      ]
     },
     "metadata": {},
     "execution_count": 6
    }
   ]
  },
  {
   "cell_type": "code",
   "source": [
    "df_sas.to_parquet(\n",
    "    \"/content/drive/MyDrive/Heart Attack Prediction Project/data/raw/bfrss2021.parquet\"\n",
    ")"
   ],
   "metadata": {
    "id": "24A0RYychCZQ"
   },
   "execution_count": null,
   "outputs": []
  },
  {
   "cell_type": "code",
   "source": [
    "df_sas.to_csv(\n",
    "    \"/content/drive/MyDrive/Heart Attack Prediction Project/data/raw/bfrss2021.csv\"\n",
    ")"
   ],
   "metadata": {
    "id": "axWiurB3jhrF"
   },
   "execution_count": null,
   "outputs": []
  },
  {
   "cell_type": "code",
   "source": [
    "!ls -lh \"/content/drive/MyDrive/Heart Attack Prediction Project/data/raw\""
   ],
   "metadata": {
    "colab": {
     "base_uri": "https://localhost:8080/"
    },
    "id": "smhOvphtjvtj",
    "executionInfo": {
     "status": "ok",
     "timestamp": 1674728797118,
     "user_tz": -180,
     "elapsed": 421,
     "user": {
      "displayName": "Ahmet Emre Usta",
      "userId": "15508369964865834704"
     }
    },
    "outputId": "6a629dc3-663b-44ce-ff89-3a1a66a91d2e"
   },
   "execution_count": null,
   "outputs": [
    {
     "output_type": "stream",
     "name": "stdout",
     "text": [
      "total 1.4G\n",
      "-rw------- 1 root root  376M Jan 26 10:12 bfrss2021.csv\n",
      "-rw------- 1 root root   34M Jan 26 10:09 bfrss2021.parquet\n",
      "-rw------- 1 root root 1016M Jan 25 10:19 sasdata.sas7bdat\n"
     ]
    }
   ]
  },
  {
   "cell_type": "code",
   "source": [],
   "metadata": {
    "id": "I5wGpmoomkd1"
   },
   "execution_count": null,
   "outputs": []
  }
 ]
}