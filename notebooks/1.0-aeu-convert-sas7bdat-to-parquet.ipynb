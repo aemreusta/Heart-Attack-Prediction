{
 "cells": [
  {
   "cell_type": "code",
   "execution_count": 1,
   "metadata": {
    "colab": {
     "base_uri": "https://localhost:8080/"
    },
    "executionInfo": {
     "elapsed": 380364,
     "status": "ok",
     "timestamp": 1674727692517,
     "user": {
      "displayName": "Ahmet Emre Usta",
      "userId": "15508369964865834704"
     },
     "user_tz": -180
    },
    "id": "nhRnsFi6fLdw",
    "outputId": "8eb920f5-ba6e-4f4f-cd1c-2a3366442d04"
   },
   "outputs": [
    {
     "name": "stderr",
     "output_type": "stream",
     "text": [
      "\u001b[33m[2022.sas7bdat] header length 131072 != 8192\u001b[0m\n"
     ]
    }
   ],
   "source": [
    "from sas7bdat import SAS7BDAT as sas\n",
    "\n",
    "with sas(\n",
    "    \"/Users/emre/GitHub/heart-attack-prediction/data/raw/sas7bdat/2022.sas7bdat\"\n",
    ") as f:\n",
    "    df_sas = f.to_data_frame()"
   ]
  },
  {
   "cell_type": "code",
   "execution_count": 2,
   "metadata": {
    "colab": {
     "base_uri": "https://localhost:8080/",
     "height": 300
    },
    "executionInfo": {
     "elapsed": 417,
     "status": "ok",
     "timestamp": 1674727702916,
     "user": {
      "displayName": "Ahmet Emre Usta",
      "userId": "15508369964865834704"
     },
     "user_tz": -180
    },
    "id": "rDhdq0wcg5Ft",
    "outputId": "6a9e8e9d-ae87-4d0c-ccf3-561b7f52cc25"
   },
   "outputs": [
    {
     "data": {
      "text/html": [
       "<div>\n",
       "<style scoped>\n",
       "    .dataframe tbody tr th:only-of-type {\n",
       "        vertical-align: middle;\n",
       "    }\n",
       "\n",
       "    .dataframe tbody tr th {\n",
       "        vertical-align: top;\n",
       "    }\n",
       "\n",
       "    .dataframe thead th {\n",
       "        text-align: right;\n",
       "    }\n",
       "</style>\n",
       "<table border=\"1\" class=\"dataframe\">\n",
       "  <thead>\n",
       "    <tr style=\"text-align: right;\">\n",
       "      <th></th>\n",
       "      <th>_STATE</th>\n",
       "      <th>FMONTH</th>\n",
       "      <th>IDATE</th>\n",
       "      <th>IMONTH</th>\n",
       "      <th>IDAY</th>\n",
       "      <th>IYEAR</th>\n",
       "      <th>DISPCODE</th>\n",
       "      <th>SEQNO</th>\n",
       "      <th>_PSU</th>\n",
       "      <th>CTELENM1</th>\n",
       "      <th>...</th>\n",
       "      <th>_SMOKGRP</th>\n",
       "      <th>_LCSREC</th>\n",
       "      <th>DRNKANY6</th>\n",
       "      <th>DROCDY4_</th>\n",
       "      <th>_RFBING6</th>\n",
       "      <th>_DRNKWK2</th>\n",
       "      <th>_RFDRHV8</th>\n",
       "      <th>_FLSHOT7</th>\n",
       "      <th>_PNEUMO3</th>\n",
       "      <th>_AIDTST4</th>\n",
       "    </tr>\n",
       "  </thead>\n",
       "  <tbody>\n",
       "    <tr>\n",
       "      <th>0</th>\n",
       "      <td>1.0</td>\n",
       "      <td>1.0</td>\n",
       "      <td>02032022</td>\n",
       "      <td>02</td>\n",
       "      <td>03</td>\n",
       "      <td>2022</td>\n",
       "      <td>1100.0</td>\n",
       "      <td>2022000001</td>\n",
       "      <td>2.022000e+09</td>\n",
       "      <td>1.0</td>\n",
       "      <td>...</td>\n",
       "      <td>4.0</td>\n",
       "      <td>NaN</td>\n",
       "      <td>2.0</td>\n",
       "      <td>0.0</td>\n",
       "      <td>1.0</td>\n",
       "      <td>0.0</td>\n",
       "      <td>1.0</td>\n",
       "      <td>1.0</td>\n",
       "      <td>2.0</td>\n",
       "      <td>2.0</td>\n",
       "    </tr>\n",
       "    <tr>\n",
       "      <th>1</th>\n",
       "      <td>1.0</td>\n",
       "      <td>1.0</td>\n",
       "      <td>02042022</td>\n",
       "      <td>02</td>\n",
       "      <td>04</td>\n",
       "      <td>2022</td>\n",
       "      <td>1100.0</td>\n",
       "      <td>2022000002</td>\n",
       "      <td>2.022000e+09</td>\n",
       "      <td>1.0</td>\n",
       "      <td>...</td>\n",
       "      <td>4.0</td>\n",
       "      <td>NaN</td>\n",
       "      <td>2.0</td>\n",
       "      <td>0.0</td>\n",
       "      <td>1.0</td>\n",
       "      <td>0.0</td>\n",
       "      <td>1.0</td>\n",
       "      <td>2.0</td>\n",
       "      <td>2.0</td>\n",
       "      <td>2.0</td>\n",
       "    </tr>\n",
       "    <tr>\n",
       "      <th>2</th>\n",
       "      <td>1.0</td>\n",
       "      <td>1.0</td>\n",
       "      <td>02022022</td>\n",
       "      <td>02</td>\n",
       "      <td>02</td>\n",
       "      <td>2022</td>\n",
       "      <td>1100.0</td>\n",
       "      <td>2022000003</td>\n",
       "      <td>2.022000e+09</td>\n",
       "      <td>1.0</td>\n",
       "      <td>...</td>\n",
       "      <td>4.0</td>\n",
       "      <td>NaN</td>\n",
       "      <td>2.0</td>\n",
       "      <td>0.0</td>\n",
       "      <td>1.0</td>\n",
       "      <td>0.0</td>\n",
       "      <td>1.0</td>\n",
       "      <td>NaN</td>\n",
       "      <td>NaN</td>\n",
       "      <td>2.0</td>\n",
       "    </tr>\n",
       "    <tr>\n",
       "      <th>3</th>\n",
       "      <td>1.0</td>\n",
       "      <td>1.0</td>\n",
       "      <td>02032022</td>\n",
       "      <td>02</td>\n",
       "      <td>03</td>\n",
       "      <td>2022</td>\n",
       "      <td>1100.0</td>\n",
       "      <td>2022000004</td>\n",
       "      <td>2.022000e+09</td>\n",
       "      <td>1.0</td>\n",
       "      <td>...</td>\n",
       "      <td>3.0</td>\n",
       "      <td>2.0</td>\n",
       "      <td>2.0</td>\n",
       "      <td>0.0</td>\n",
       "      <td>1.0</td>\n",
       "      <td>0.0</td>\n",
       "      <td>1.0</td>\n",
       "      <td>9.0</td>\n",
       "      <td>9.0</td>\n",
       "      <td>2.0</td>\n",
       "    </tr>\n",
       "    <tr>\n",
       "      <th>4</th>\n",
       "      <td>1.0</td>\n",
       "      <td>1.0</td>\n",
       "      <td>02022022</td>\n",
       "      <td>02</td>\n",
       "      <td>02</td>\n",
       "      <td>2022</td>\n",
       "      <td>1100.0</td>\n",
       "      <td>2022000005</td>\n",
       "      <td>2.022000e+09</td>\n",
       "      <td>1.0</td>\n",
       "      <td>...</td>\n",
       "      <td>4.0</td>\n",
       "      <td>NaN</td>\n",
       "      <td>1.0</td>\n",
       "      <td>10.0</td>\n",
       "      <td>1.0</td>\n",
       "      <td>140.0</td>\n",
       "      <td>1.0</td>\n",
       "      <td>NaN</td>\n",
       "      <td>NaN</td>\n",
       "      <td>2.0</td>\n",
       "    </tr>\n",
       "  </tbody>\n",
       "</table>\n",
       "<p>5 rows × 326 columns</p>\n",
       "</div>"
      ],
      "text/plain": [
       "   _STATE  FMONTH     IDATE IMONTH IDAY IYEAR  DISPCODE       SEQNO  \\\n",
       "0     1.0     1.0  02032022     02   03  2022    1100.0  2022000001   \n",
       "1     1.0     1.0  02042022     02   04  2022    1100.0  2022000002   \n",
       "2     1.0     1.0  02022022     02   02  2022    1100.0  2022000003   \n",
       "3     1.0     1.0  02032022     02   03  2022    1100.0  2022000004   \n",
       "4     1.0     1.0  02022022     02   02  2022    1100.0  2022000005   \n",
       "\n",
       "           _PSU  CTELENM1  ...  _SMOKGRP  _LCSREC  DRNKANY6  DROCDY4_  \\\n",
       "0  2.022000e+09       1.0  ...       4.0      NaN       2.0       0.0   \n",
       "1  2.022000e+09       1.0  ...       4.0      NaN       2.0       0.0   \n",
       "2  2.022000e+09       1.0  ...       4.0      NaN       2.0       0.0   \n",
       "3  2.022000e+09       1.0  ...       3.0      2.0       2.0       0.0   \n",
       "4  2.022000e+09       1.0  ...       4.0      NaN       1.0      10.0   \n",
       "\n",
       "   _RFBING6  _DRNKWK2  _RFDRHV8  _FLSHOT7  _PNEUMO3  _AIDTST4  \n",
       "0       1.0       0.0       1.0       1.0       2.0       2.0  \n",
       "1       1.0       0.0       1.0       2.0       2.0       2.0  \n",
       "2       1.0       0.0       1.0       NaN       NaN       2.0  \n",
       "3       1.0       0.0       1.0       9.0       9.0       2.0  \n",
       "4       1.0     140.0       1.0       NaN       NaN       2.0  \n",
       "\n",
       "[5 rows x 326 columns]"
      ]
     },
     "execution_count": 2,
     "metadata": {},
     "output_type": "execute_result"
    }
   ],
   "source": [
    "df_sas.head()"
   ]
  },
  {
   "cell_type": "code",
   "execution_count": 4,
   "metadata": {
    "colab": {
     "base_uri": "https://localhost:8080/"
    },
    "executionInfo": {
     "elapsed": 269,
     "status": "ok",
     "timestamp": 1674727719943,
     "user": {
      "displayName": "Ahmet Emre Usta",
      "userId": "15508369964865834704"
     },
     "user_tz": -180
    },
    "id": "nagc1gKZjOg8",
    "outputId": "9f49e6b4-cf29-467e-b435-6a3dc0d528ba"
   },
   "outputs": [
    {
     "data": {
      "text/plain": [
       "(445132, 326)"
      ]
     },
     "execution_count": 4,
     "metadata": {},
     "output_type": "execute_result"
    }
   ],
   "source": [
    "df_sas.shape"
   ]
  },
  {
   "cell_type": "code",
   "execution_count": 6,
   "metadata": {
    "id": "24A0RYychCZQ"
   },
   "outputs": [],
   "source": [
    "df_sas.to_parquet(\n",
    "    \"/Users/emre/GitHub/heart-attack-prediction/data/raw/bfrss2022.parquet\",\n",
    "    compression=\"brotli\",\n",
    ")"
   ]
  },
  {
   "cell_type": "code",
   "execution_count": null,
   "metadata": {},
   "outputs": [],
   "source": []
  }
 ],
 "metadata": {
  "colab": {
   "provenance": []
  },
  "kernelspec": {
   "display_name": "Python 3",
   "name": "python3"
  },
  "language_info": {
   "codemirror_mode": {
    "name": "ipython",
    "version": 3
   },
   "file_extension": ".py",
   "mimetype": "text/x-python",
   "name": "python",
   "nbconvert_exporter": "python",
   "pygments_lexer": "ipython3",
   "version": "3.10.10"
  }
 },
 "nbformat": 4,
 "nbformat_minor": 0
}
