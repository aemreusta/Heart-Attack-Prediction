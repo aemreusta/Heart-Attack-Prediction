{
 "cells": [
  {
   "cell_type": "code",
   "execution_count": 1,
   "metadata": {},
   "outputs": [],
   "source": [
    "import pandas as pd\n",
    "import os\n",
    "\n",
    "from sklearn.linear_model import LogisticRegression\n",
    "from sklearn.model_selection import cross_val_predict\n",
    "from sklearn.metrics import precision_score, recall_score, f1_score, accuracy_score"
   ]
  },
  {
   "cell_type": "code",
   "execution_count": 2,
   "metadata": {},
   "outputs": [],
   "source": [
    "work_directory = \"/\".join(os.getcwd().split(\"/\")[:-1])\n",
    "DATASETS = os.path.join(work_directory, \"data\")\n",
    "PROCESSED_PATH = os.path.join(DATASETS, \"processed\")"
   ]
  },
  {
   "cell_type": "code",
   "execution_count": 3,
   "metadata": {},
   "outputs": [],
   "source": [
    "def read_directory(directory_name):\n",
    "    return sorted(os.listdir(directory_name))"
   ]
  },
  {
   "cell_type": "code",
   "execution_count": 4,
   "metadata": {},
   "outputs": [],
   "source": [
    "def create_directory(workdir, directory_name):\n",
    "    if not os.path.exists(os.path.join(workdir, directory_name)):\n",
    "        os.makedirs(os.path.join(workdir, directory_name))"
   ]
  },
  {
   "cell_type": "code",
   "execution_count": 5,
   "metadata": {},
   "outputs": [],
   "source": [
    "def save_graphs(workdir, directory_name, graphname, plt):\n",
    "    create_directory(workdir, directory_name)\n",
    "    plt.savefig(os.path.join(workdir, directory_name, graphname))"
   ]
  },
  {
   "cell_type": "code",
   "execution_count": 6,
   "metadata": {},
   "outputs": [],
   "source": [
    "def main():\n",
    "    processed_dataset = read_directory(PROCESSED_PATH)\n",
    "\n",
    "    df_1 = pd.read_parquet(os.path.join(PROCESSED_PATH, processed_dataset[0]))\n",
    "    df_2 = pd.read_parquet(os.path.join(PROCESSED_PATH, processed_dataset[1]))\n",
    "    df_3 = pd.read_parquet(os.path.join(PROCESSED_PATH, processed_dataset[2]))\n",
    "\n",
    "    # Add all the dataframes together\n",
    "    df = pd.concat(\n",
    "        [df_1, df_2, df_3], ignore_index=True\n",
    "    )  # Use ignore_index to reset index\n",
    "\n",
    "    # Remove the datasets that are not needed\n",
    "    del df_1, df_2, df_3\n",
    "\n",
    "    model = LogisticRegression()\n",
    "\n",
    "    # Divide X and y variables\n",
    "    X = df.drop(columns=[\"Heart_Attack_Status_No\", \"Heart_Attack_Status_Yes\"])\n",
    "    y = df[\n",
    "        \"Heart_Attack_Status_Yes\"\n",
    "    ]  # Use only one target variable for binary classification\n",
    "\n",
    "    # Fit the model\n",
    "    y_pred = cross_val_predict(model, X, y, cv=5)\n",
    "\n",
    "    # Calculate metrics\n",
    "    accuracy = accuracy_score(y, y_pred)\n",
    "    precision = precision_score(y, y_pred)\n",
    "    recall = recall_score(y, y_pred)\n",
    "    f1 = f1_score(y, y_pred)\n",
    "\n",
    "    # Print the scores\n",
    "    print(\"Accuracy:\", accuracy)\n",
    "    print(\"Precision:\", precision)\n",
    "    print(\"Recall:\", recall)\n",
    "    print(\"F1 Score:\", f1)"
   ]
  },
  {
   "cell_type": "code",
   "execution_count": 7,
   "metadata": {},
   "outputs": [
    {
     "name": "stdout",
     "output_type": "stream",
     "text": [
      "Precision: 0.5793770455631964\n",
      "Recall: 0.2571866990972755\n",
      "F1 Score: 0.3562384117939673\n"
     ]
    }
   ],
   "source": [
    "if __name__ == \"__main__\":\n",
    "    main()"
   ]
  },
  {
   "cell_type": "code",
   "execution_count": null,
   "metadata": {},
   "outputs": [],
   "source": []
  }
 ],
 "metadata": {
  "kernelspec": {
   "display_name": "jupyterenv",
   "language": "python",
   "name": "python3"
  },
  "language_info": {
   "codemirror_mode": {
    "name": "ipython",
    "version": 3
   },
   "file_extension": ".py",
   "mimetype": "text/x-python",
   "name": "python",
   "nbconvert_exporter": "python",
   "pygments_lexer": "ipython3",
   "version": "3.10.10"
  }
 },
 "nbformat": 4,
 "nbformat_minor": 2
}
