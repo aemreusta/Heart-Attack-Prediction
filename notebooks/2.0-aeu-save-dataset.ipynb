{
 "cells": [
  {
   "cell_type": "code",
   "execution_count": 1,
   "metadata": {
    "id": "rYmSe39OnRns"
   },
   "outputs": [],
   "source": [
    "import os\n",
    "import pandas as pd\n",
    "import re"
   ]
  },
  {
   "cell_type": "code",
   "execution_count": 2,
   "metadata": {
    "executionInfo": {
     "elapsed": 440,
     "status": "ok",
     "timestamp": 1697714611387,
     "user": {
      "displayName": "Ahmet Emre Usta",
      "userId": "15508369964865834704"
     },
     "user_tz": -180
    },
    "id": "fl0EyHuEmv4b"
   },
   "outputs": [],
   "source": [
    "working_directory = \"/\".join(os.getcwd().split(\"/\")[:-1])\n",
    "DATASETS = os.path.join(working_directory, \"data\")\n",
    "INTERIM_DATASETS = os.path.join(DATASETS, \"interim\")\n",
    "RAW_DATASETS = os.path.join(DATASETS, \"raw\")"
   ]
  },
  {
   "cell_type": "code",
   "execution_count": 3,
   "metadata": {},
   "outputs": [],
   "source": [
    "def read_folder(directory_path):\n",
    "    if os.path.exists(directory_path):\n",
    "        directory_list = sorted(\n",
    "            [\n",
    "                os.path.join(directory_path, file_name)\n",
    "                for file_name in os.listdir(directory_path)\n",
    "                if file_name.endswith(\".parquet\")\n",
    "            ]\n",
    "        )\n",
    "\n",
    "        return directory_list\n",
    "\n",
    "    else:\n",
    "        assert f\"The specified directory '{directory_path}' does not exist.\""
   ]
  },
  {
   "cell_type": "code",
   "execution_count": 4,
   "metadata": {},
   "outputs": [
    {
     "name": "stdout",
     "output_type": "stream",
     "text": [
      "/Users/emre/GitHub/heart-attack-prediction/data/raw/bfrss2018.parquet dataset selected!\n",
      "/Users/emre/GitHub/heart-attack-prediction/data/processed/bfrss2018_selected.parquet Already Saved!!!\n",
      "/Users/emre/GitHub/heart-attack-prediction/data/raw/bfrss2019.parquet dataset selected!\n",
      "/Users/emre/GitHub/heart-attack-prediction/data/processed/bfrss2019_selected.parquet Already Saved!!!\n",
      "/Users/emre/GitHub/heart-attack-prediction/data/raw/bfrss2020.parquet dataset selected!\n",
      "/Users/emre/GitHub/heart-attack-prediction/data/processed/bfrss2020_selected.parquet Already Saved!!!\n",
      "/Users/emre/GitHub/heart-attack-prediction/data/raw/bfrss2021.parquet dataset selected!\n",
      "/Users/emre/GitHub/heart-attack-prediction/data/processed/bfrss2021_selected.parquet Already Saved!!!\n",
      "/Users/emre/GitHub/heart-attack-prediction/data/raw/bfrss2022.parquet dataset selected!\n",
      "/Users/emre/GitHub/heart-attack-prediction/data/processed/bfrss2022_selected.parquet Already Saved!!!\n"
     ]
    }
   ],
   "source": [
    "year_regex = re.compile(r\"\\d{4}\")\n",
    "\n",
    "for idx, dataset in enumerate(read_folder(RAW_DATASETS)):\n",
    "    dataset_year = int(year_regex.search(dataset).group())\n",
    "\n",
    "    print(dataset, \"dataset selected!\")\n",
    "\n",
    "    parquet_name = os.path.join(\n",
    "        INTERIM_DATASETS,\n",
    "        f\"bfrss{dataset_year}_selected.parquet\",\n",
    "    )\n",
    "\n",
    "    if not os.path.exists(parquet_name):\n",
    "        df_raw = pd.read_parquet(dataset)\n",
    "\n",
    "        if dataset_year == 2018:\n",
    "            df_selected = df_raw[\n",
    "                [\n",
    "                    \"SEX1\",\n",
    "                    \"_IMPRACE\",\n",
    "                    \"_AGE65YR\",\n",
    "                    \"GENHLTH\",\n",
    "                    \"_RFBMI5\",\n",
    "                    \"_TOTINDA\",\n",
    "                    \"_SMOKER3\",\n",
    "                    \"DRNKANY5\",\n",
    "                    \"DIABETE3\",\n",
    "                    \"CVDSTRK3\",\n",
    "                    \"CVDCRHD4\",\n",
    "                    \"CVDINFR4\",\n",
    "                ]\n",
    "            ]\n",
    "\n",
    "        if dataset_year == 2019:\n",
    "            df_selected = df_raw[\n",
    "                [\n",
    "                    \"SEXVAR\",\n",
    "                    \"_IMPRACE\",\n",
    "                    \"_AGE65YR\",\n",
    "                    \"GENHLTH\",\n",
    "                    \"_RFBMI5\",\n",
    "                    \"_TOTINDA\",\n",
    "                    \"_SMOKER3\",\n",
    "                    \"DRNKANY5\",\n",
    "                    \"DIABETE4\",\n",
    "                    \"CVDSTRK3\",\n",
    "                    \"CVDCRHD4\",\n",
    "                    \"CVDINFR4\",\n",
    "                ]\n",
    "            ]\n",
    "\n",
    "        if dataset_year == 2020:\n",
    "            df_selected = df_raw[\n",
    "                [\n",
    "                    \"SEXVAR\",\n",
    "                    \"_IMPRACE\",\n",
    "                    \"_AGE65YR\",\n",
    "                    \"GENHLTH\",\n",
    "                    \"_RFBMI5\",\n",
    "                    \"_TOTINDA\",\n",
    "                    \"_SMOKER3\",\n",
    "                    \"DRNKANY5\",\n",
    "                    \"DIABETE4\",\n",
    "                    \"CVDSTRK3\",\n",
    "                    \"CVDCRHD4\",\n",
    "                    \"CVDINFR4\",\n",
    "                ]\n",
    "            ]\n",
    "\n",
    "        if dataset_year == 2021:\n",
    "            df_selected = df_raw[\n",
    "                [\n",
    "                    \"SEXVAR\",\n",
    "                    \"_IMPRACE\",\n",
    "                    \"_AGE65YR\",\n",
    "                    \"GENHLTH\",\n",
    "                    \"_RFBMI5\",\n",
    "                    \"_TOTINDA\",\n",
    "                    \"_SMOKER3\",\n",
    "                    \"DRNKANY5\",\n",
    "                    \"DIABETE4\",\n",
    "                    \"CVDSTRK3\",\n",
    "                    \"CVDCRHD4\",\n",
    "                    \"CVDINFR4\",\n",
    "                ]\n",
    "            ]\n",
    "\n",
    "        if dataset_year == 2022:\n",
    "            df_selected = df_raw[\n",
    "                [\n",
    "                    \"SEXVAR\",\n",
    "                    \"_IMPRACE\",\n",
    "                    \"_AGE65YR\",\n",
    "                    \"GENHLTH\",\n",
    "                    \"_RFBMI5\",\n",
    "                    \"_TOTINDA\",\n",
    "                    \"_SMOKER3\",\n",
    "                    \"DRNKANY6\",\n",
    "                    \"DIABETE4\",\n",
    "                    \"CVDSTRK3\",\n",
    "                    \"CVDCRHD4\",\n",
    "                    \"CVDINFR4\",\n",
    "                ]\n",
    "            ]\n",
    "\n",
    "        df_selected.to_parquet(parquet_name, engine=\"auto\", compression=\"brotli\")\n",
    "        print(parquet_name, \"Succesfully Saved!\")\n",
    "\n",
    "    else:\n",
    "        print(parquet_name, \"Already Saved!!!\")"
   ]
  },
  {
   "cell_type": "code",
   "execution_count": null,
   "metadata": {},
   "outputs": [],
   "source": []
  }
 ],
 "metadata": {
  "colab": {
   "provenance": []
  },
  "kernelspec": {
   "display_name": "Python 3",
   "name": "python3"
  },
  "language_info": {
   "codemirror_mode": {
    "name": "ipython",
    "version": 3
   },
   "file_extension": ".py",
   "mimetype": "text/x-python",
   "name": "python",
   "nbconvert_exporter": "python",
   "pygments_lexer": "ipython3",
   "version": "3.10.10"
  }
 },
 "nbformat": 4,
 "nbformat_minor": 0
}
