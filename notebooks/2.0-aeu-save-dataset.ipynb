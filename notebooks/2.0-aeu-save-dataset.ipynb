{
 "cells": [
  {
   "cell_type": "code",
   "execution_count": 32,
   "metadata": {
    "id": "rYmSe39OnRns"
   },
   "outputs": [],
   "source": [
    "import os\n",
    "import pandas as pd"
   ]
  },
  {
   "cell_type": "code",
   "execution_count": 33,
   "metadata": {
    "executionInfo": {
     "elapsed": 440,
     "status": "ok",
     "timestamp": 1697714611387,
     "user": {
      "displayName": "Ahmet Emre Usta",
      "userId": "15508369964865834704"
     },
     "user_tz": -180
    },
    "id": "fl0EyHuEmv4b"
   },
   "outputs": [],
   "source": [
    "working_directory = \"\\\\\".join(os.getcwd().split(\"\\\\\")[:-1])\n",
    "DATASETS = os.path.join(working_directory, \"data\")\n",
    "PROCESSED_DATASETS = os.path.join(DATASETS, \"processed\")\n",
    "RAW_DATASETS = os.path.join(DATASETS, \"raw\")\n",
    "RAW_PARQUET = os.path.join(RAW_DATASETS, \"bfrss2021_brotli.parquet\")"
   ]
  },
  {
   "cell_type": "code",
   "execution_count": 34,
   "metadata": {},
   "outputs": [],
   "source": [
    "df_raw = pd.read_parquet(RAW_PARQUET)"
   ]
  },
  {
   "cell_type": "code",
   "execution_count": 35,
   "metadata": {
    "colab": {
     "base_uri": "https://localhost:8080/"
    },
    "executionInfo": {
     "elapsed": 617,
     "status": "ok",
     "timestamp": 1697714059481,
     "user": {
      "displayName": "Ahmet Emre Usta",
      "userId": "15508369964865834704"
     },
     "user_tz": -180
    },
    "id": "nagc1gKZjOg8",
    "outputId": "72ae7887-d5e8-4f0d-c37d-ad4e0bc86a09"
   },
   "outputs": [
    {
     "data": {
      "text/plain": [
       "(438693, 303)"
      ]
     },
     "execution_count": 35,
     "metadata": {},
     "output_type": "execute_result"
    }
   ],
   "source": [
    "df_raw.shape"
   ]
  },
  {
   "cell_type": "code",
   "execution_count": 36,
   "metadata": {
    "colab": {
     "base_uri": "https://localhost:8080/",
     "height": 226
    },
    "executionInfo": {
     "elapsed": 6,
     "status": "ok",
     "timestamp": 1697714522743,
     "user": {
      "displayName": "Ahmet Emre Usta",
      "userId": "15508369964865834704"
     },
     "user_tz": -180
    },
    "id": "I5wGpmoomkd1",
    "outputId": "d41a2d46-3768-4f93-a846-3f1eafe445d0"
   },
   "outputs": [
    {
     "data": {
      "text/html": [
       "<div>\n",
       "<style scoped>\n",
       "    .dataframe tbody tr th:only-of-type {\n",
       "        vertical-align: middle;\n",
       "    }\n",
       "\n",
       "    .dataframe tbody tr th {\n",
       "        vertical-align: top;\n",
       "    }\n",
       "\n",
       "    .dataframe thead th {\n",
       "        text-align: right;\n",
       "    }\n",
       "</style>\n",
       "<table border=\"1\" class=\"dataframe\">\n",
       "  <thead>\n",
       "    <tr style=\"text-align: right;\">\n",
       "      <th></th>\n",
       "      <th>SEXVAR</th>\n",
       "      <th>_IMPRACE</th>\n",
       "      <th>_AGE65YR</th>\n",
       "      <th>GENHLTH</th>\n",
       "      <th>_RFBMI5</th>\n",
       "      <th>_TOTINDA</th>\n",
       "      <th>_SMOKER3</th>\n",
       "      <th>DRNKANY5</th>\n",
       "      <th>DIABETE4</th>\n",
       "      <th>CVDSTRK3</th>\n",
       "      <th>CVDCRHD4</th>\n",
       "      <th>CVDINFR4</th>\n",
       "    </tr>\n",
       "  </thead>\n",
       "  <tbody>\n",
       "    <tr>\n",
       "      <th>0</th>\n",
       "      <td>2.0</td>\n",
       "      <td>1.0</td>\n",
       "      <td>2.0</td>\n",
       "      <td>5.0</td>\n",
       "      <td>1.0</td>\n",
       "      <td>2.0</td>\n",
       "      <td>3.0</td>\n",
       "      <td>2.0</td>\n",
       "      <td>3.0</td>\n",
       "      <td>2.0</td>\n",
       "      <td>2.0</td>\n",
       "      <td>2.0</td>\n",
       "    </tr>\n",
       "    <tr>\n",
       "      <th>1</th>\n",
       "      <td>2.0</td>\n",
       "      <td>2.0</td>\n",
       "      <td>2.0</td>\n",
       "      <td>3.0</td>\n",
       "      <td>9.0</td>\n",
       "      <td>1.0</td>\n",
       "      <td>4.0</td>\n",
       "      <td>2.0</td>\n",
       "      <td>1.0</td>\n",
       "      <td>2.0</td>\n",
       "      <td>1.0</td>\n",
       "      <td>2.0</td>\n",
       "    </tr>\n",
       "    <tr>\n",
       "      <th>2</th>\n",
       "      <td>2.0</td>\n",
       "      <td>2.0</td>\n",
       "      <td>2.0</td>\n",
       "      <td>2.0</td>\n",
       "      <td>2.0</td>\n",
       "      <td>2.0</td>\n",
       "      <td>4.0</td>\n",
       "      <td>2.0</td>\n",
       "      <td>1.0</td>\n",
       "      <td>2.0</td>\n",
       "      <td>1.0</td>\n",
       "      <td>2.0</td>\n",
       "    </tr>\n",
       "    <tr>\n",
       "      <th>3</th>\n",
       "      <td>2.0</td>\n",
       "      <td>1.0</td>\n",
       "      <td>1.0</td>\n",
       "      <td>2.0</td>\n",
       "      <td>2.0</td>\n",
       "      <td>1.0</td>\n",
       "      <td>4.0</td>\n",
       "      <td>1.0</td>\n",
       "      <td>1.0</td>\n",
       "      <td>2.0</td>\n",
       "      <td>2.0</td>\n",
       "      <td>2.0</td>\n",
       "    </tr>\n",
       "    <tr>\n",
       "      <th>4</th>\n",
       "      <td>1.0</td>\n",
       "      <td>6.0</td>\n",
       "      <td>2.0</td>\n",
       "      <td>5.0</td>\n",
       "      <td>2.0</td>\n",
       "      <td>1.0</td>\n",
       "      <td>4.0</td>\n",
       "      <td>2.0</td>\n",
       "      <td>1.0</td>\n",
       "      <td>1.0</td>\n",
       "      <td>7.0</td>\n",
       "      <td>1.0</td>\n",
       "    </tr>\n",
       "  </tbody>\n",
       "</table>\n",
       "</div>"
      ],
      "text/plain": [
       "   SEXVAR  _IMPRACE  _AGE65YR  GENHLTH  _RFBMI5  _TOTINDA  _SMOKER3  DRNKANY5  \\\n",
       "0     2.0       1.0       2.0      5.0      1.0       2.0       3.0       2.0   \n",
       "1     2.0       2.0       2.0      3.0      9.0       1.0       4.0       2.0   \n",
       "2     2.0       2.0       2.0      2.0      2.0       2.0       4.0       2.0   \n",
       "3     2.0       1.0       1.0      2.0      2.0       1.0       4.0       1.0   \n",
       "4     1.0       6.0       2.0      5.0      2.0       1.0       4.0       2.0   \n",
       "\n",
       "   DIABETE4  CVDSTRK3  CVDCRHD4  CVDINFR4  \n",
       "0       3.0       2.0       2.0       2.0  \n",
       "1       1.0       2.0       1.0       2.0  \n",
       "2       1.0       2.0       1.0       2.0  \n",
       "3       1.0       2.0       2.0       2.0  \n",
       "4       1.0       1.0       7.0       1.0  "
      ]
     },
     "execution_count": 36,
     "metadata": {},
     "output_type": "execute_result"
    }
   ],
   "source": [
    "df_selected = df_raw[\n",
    "    [\n",
    "        \"SEXVAR\",\n",
    "        \"_IMPRACE\",\n",
    "        \"_AGE65YR\",\n",
    "        \"GENHLTH\",\n",
    "        \"_RFBMI5\",\n",
    "        \"_TOTINDA\",\n",
    "        \"_SMOKER3\",\n",
    "        \"DRNKANY5\",\n",
    "        \"DIABETE4\",\n",
    "        \"CVDSTRK3\",\n",
    "        \"CVDCRHD4\",\n",
    "        \"CVDINFR4\",\n",
    "    ]\n",
    "]\n",
    "df_selected.head()"
   ]
  },
  {
   "cell_type": "code",
   "execution_count": 37,
   "metadata": {
    "colab": {
     "base_uri": "https://localhost:8080/"
    },
    "executionInfo": {
     "elapsed": 5,
     "status": "ok",
     "timestamp": 1697714542790,
     "user": {
      "displayName": "Ahmet Emre Usta",
      "userId": "15508369964865834704"
     },
     "user_tz": -180
    },
    "id": "-QnlunTKq9fe",
    "outputId": "1f45c0e6-236e-4115-d213-32662f0af5d9"
   },
   "outputs": [
    {
     "name": "stdout",
     "output_type": "stream",
     "text": [
      "<class 'pandas.core.frame.DataFrame'>\n",
      "RangeIndex: 438693 entries, 0 to 438692\n",
      "Data columns (total 12 columns):\n",
      " #   Column    Non-Null Count   Dtype  \n",
      "---  ------    --------------   -----  \n",
      " 0   SEXVAR    438693 non-null  float64\n",
      " 1   _IMPRACE  438693 non-null  float64\n",
      " 2   _AGE65YR  438693 non-null  float64\n",
      " 3   GENHLTH   438689 non-null  float64\n",
      " 4   _RFBMI5   438693 non-null  float64\n",
      " 5   _TOTINDA  438693 non-null  float64\n",
      " 6   _SMOKER3  438693 non-null  float64\n",
      " 7   DRNKANY5  438693 non-null  float64\n",
      " 8   DIABETE4  438690 non-null  float64\n",
      " 9   CVDSTRK3  438691 non-null  float64\n",
      " 10  CVDCRHD4  438691 non-null  float64\n",
      " 11  CVDINFR4  438691 non-null  float64\n",
      "dtypes: float64(12)\n",
      "memory usage: 40.2 MB\n"
     ]
    }
   ],
   "source": [
    "df_selected.info()"
   ]
  },
  {
   "cell_type": "code",
   "execution_count": 38,
   "metadata": {
    "executionInfo": {
     "elapsed": 6154,
     "status": "ok",
     "timestamp": 1697714771855,
     "user": {
      "displayName": "Ahmet Emre Usta",
      "userId": "15508369964865834704"
     },
     "user_tz": -180
    },
    "id": "qQskqPTErDUi"
   },
   "outputs": [],
   "source": [
    "parquet_name = os.path.join(PROCESSED_DATASETS, \"bfrss2021_selected_brotli.parquet\")\n",
    "df_selected.to_parquet(parquet_name, engine=\"auto\", compression=\"brotli\")"
   ]
  }
 ],
 "metadata": {
  "colab": {
   "provenance": []
  },
  "kernelspec": {
   "display_name": "Python 3",
   "name": "python3"
  },
  "language_info": {
   "codemirror_mode": {
    "name": "ipython",
    "version": 3
   },
   "file_extension": ".py",
   "mimetype": "text/x-python",
   "name": "python",
   "nbconvert_exporter": "python",
   "pygments_lexer": "ipython3",
   "version": "3.9.1"
  }
 },
 "nbformat": 4,
 "nbformat_minor": 0
}
